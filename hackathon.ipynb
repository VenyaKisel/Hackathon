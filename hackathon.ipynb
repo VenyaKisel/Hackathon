{
  "cells": [
    {
      "cell_type": "markdown",
      "source": [
        "# Интро"
      ],
      "metadata": {
        "id": "gBIvR-ZJaJi3"
      }
    },
    {
      "cell_type": "code",
      "execution_count": null,
      "metadata": {
        "colab": {
          "base_uri": "https://localhost:8080/"
        },
        "collapsed": true,
        "id": "oUxRkz8e5zwd",
        "outputId": "e83b33ef-fd58-446f-9143-46e7c046f736"
      },
      "outputs": [
        {
          "output_type": "stream",
          "name": "stdout",
          "text": [
            "Requirement already satisfied: pdfplumber in /usr/local/lib/python3.12/dist-packages (0.11.7)\n",
            "Requirement already satisfied: pandas in /usr/local/lib/python3.12/dist-packages (2.2.2)\n",
            "Requirement already satisfied: numpy in /usr/local/lib/python3.12/dist-packages (2.0.2)\n",
            "Requirement already satisfied: gdown in /usr/local/lib/python3.12/dist-packages (5.2.0)\n",
            "Requirement already satisfied: pdfminer.six==20250506 in /usr/local/lib/python3.12/dist-packages (from pdfplumber) (20250506)\n",
            "Requirement already satisfied: Pillow>=9.1 in /usr/local/lib/python3.12/dist-packages (from pdfplumber) (11.3.0)\n",
            "Requirement already satisfied: pypdfium2>=4.18.0 in /usr/local/lib/python3.12/dist-packages (from pdfplumber) (4.30.0)\n",
            "Requirement already satisfied: charset-normalizer>=2.0.0 in /usr/local/lib/python3.12/dist-packages (from pdfminer.six==20250506->pdfplumber) (3.4.3)\n",
            "Requirement already satisfied: cryptography>=36.0.0 in /usr/local/lib/python3.12/dist-packages (from pdfminer.six==20250506->pdfplumber) (43.0.3)\n",
            "Requirement already satisfied: python-dateutil>=2.8.2 in /usr/local/lib/python3.12/dist-packages (from pandas) (2.9.0.post0)\n",
            "Requirement already satisfied: pytz>=2020.1 in /usr/local/lib/python3.12/dist-packages (from pandas) (2025.2)\n",
            "Requirement already satisfied: tzdata>=2022.7 in /usr/local/lib/python3.12/dist-packages (from pandas) (2025.2)\n",
            "Requirement already satisfied: beautifulsoup4 in /usr/local/lib/python3.12/dist-packages (from gdown) (4.13.5)\n",
            "Requirement already satisfied: filelock in /usr/local/lib/python3.12/dist-packages (from gdown) (3.19.1)\n",
            "Requirement already satisfied: requests[socks] in /usr/local/lib/python3.12/dist-packages (from gdown) (2.32.4)\n",
            "Requirement already satisfied: tqdm in /usr/local/lib/python3.12/dist-packages (from gdown) (4.67.1)\n",
            "Requirement already satisfied: six>=1.5 in /usr/local/lib/python3.12/dist-packages (from python-dateutil>=2.8.2->pandas) (1.17.0)\n",
            "Requirement already satisfied: soupsieve>1.2 in /usr/local/lib/python3.12/dist-packages (from beautifulsoup4->gdown) (2.8)\n",
            "Requirement already satisfied: typing-extensions>=4.0.0 in /usr/local/lib/python3.12/dist-packages (from beautifulsoup4->gdown) (4.15.0)\n",
            "Requirement already satisfied: idna<4,>=2.5 in /usr/local/lib/python3.12/dist-packages (from requests[socks]->gdown) (3.10)\n",
            "Requirement already satisfied: urllib3<3,>=1.21.1 in /usr/local/lib/python3.12/dist-packages (from requests[socks]->gdown) (2.5.0)\n",
            "Requirement already satisfied: certifi>=2017.4.17 in /usr/local/lib/python3.12/dist-packages (from requests[socks]->gdown) (2025.8.3)\n",
            "Requirement already satisfied: PySocks!=1.5.7,>=1.5.6 in /usr/local/lib/python3.12/dist-packages (from requests[socks]->gdown) (1.7.1)\n",
            "Requirement already satisfied: cffi>=1.12 in /usr/local/lib/python3.12/dist-packages (from cryptography>=36.0.0->pdfminer.six==20250506->pdfplumber) (2.0.0)\n",
            "Requirement already satisfied: pycparser in /usr/local/lib/python3.12/dist-packages (from cffi>=1.12->cryptography>=36.0.0->pdfminer.six==20250506->pdfplumber) (2.23)\n"
          ]
        }
      ],
      "source": [
        "#Libraries\n",
        "!pip install pdfplumber pandas numpy gdown\n",
        "import pdfplumber\n",
        "import logging\n",
        "import pandas as pd\n",
        "import numpy as np\n",
        "import re\n",
        "import os\n",
        "from pathlib import Path\n",
        "import glob\n",
        "import gdown\n",
        "#For ML part\n",
        "from sklearn.ensemble import RandomForestRegressor\n",
        "from sklearn.linear_model import LinearRegression\n",
        "from sklearn.model_selection import train_test_split, cross_val_score\n",
        "from sklearn.metrics import mean_squared_error, r2_score\n",
        "from sklearn.preprocessing import StandardScaler\n",
        "import matplotlib.pyplot as plt\n",
        "import seaborn as sns"
      ]
    },
    {
      "cell_type": "markdown",
      "source": [
        "# Описание входных данных"
      ],
      "metadata": {
        "id": "OkQJsqDVysDT"
      }
    },
    {
      "cell_type": "markdown",
      "metadata": {
        "id": "pCLQisKOsatM"
      },
      "source": [
        "## pdf-файл Рацион(отчеты ЖК):\n",
        "### Таблица №1 \"Рецепт\"\n",
        "- Ингредиенты\n",
        "- СВ% — содержание сухого вещества компонента (СВ / ГП)\n",
        "- ГП кг — масса корма\n",
        "- СВ кг — масса сухого вещества\n",
        "- %ГП — массовая доля компонента в рационе\n",
        "> **%СВ — массовая доля сухого вещества (наиболее важный параметр)**\n",
        "\n",
        "Иногда корм закодирован, и имеет следующий вид:\n",
        "3637.07.05.02.1.24.\n",
        "- **** — номер подразделения\n",
        "- ** — номер хранилища\n",
        "- ** — наименование культуры\n",
        "- ** — **вид корма**\n",
        "*   01 -сенаж\n",
        "*   02-силос\n",
        "*   07-корнаж\n",
        "\n",
        "- *— номер укоса\n",
        "- *—год заготовки\n",
        "\n",
        "Предлагаю сфокусироваться на виде корма(4 позиция в кодификаторе) и потом если будет время включить в модель как рандомные/фиксированные эффекты\n",
        "### Таблица №2 (Полный анализ: Лактирующая корова) — анализ питательности нутриентов\n",
        "- Нутриент — название добавки\n",
        "- Единица — единица измерения соответствующая ячейке в столбце \"СВ\"\n",
        "> **СВ — массовая доля нутриента (опять же основной параметр)**\n",
        "- Содержание — масса в рационе\n",
        "- Единица — единица измерения соответствующая ячейке в столбце \"Содержание\""
      ]
    },
    {
      "cell_type": "markdown",
      "source": [],
      "metadata": {
        "id": "E48rooa_ywt8"
      }
    },
    {
      "cell_type": "markdown",
      "source": [
        "#Наиболее важные параметры влияющие на молочный жир, которые укзаны в ТЗ:"
      ],
      "metadata": {
        "id": "v26naRE8zIBm"
      }
    },
    {
      "cell_type": "markdown",
      "source": [
        "##**Анализ**\n",
        "*   ЧЭЛ 3x NRC (МДжоуль/кг)\n",
        "*   СП (%)\n",
        "*   Крахмал (%)\n",
        "*   RD Крахмал 3xУровень 1 (%)\n",
        "*   Сахар (ВРУ) (%)\n",
        "*   НСУ (%)\n",
        "*   НВУ (%)\n",
        "*   aNDFom (%)\n",
        "*   CHO B3 pdNDF (%)\n",
        "*   Растворимая клетчатка (%)\n",
        "*   aNDFom фуража (%)\n",
        "*   peNDF (%)\n",
        "*   CHO B3 медленная фракция (%)\n",
        "*   CHO C uNDF (%)\n",
        "*   СЖ (%)\n",
        "*   ОЖК (%)\n",
        "*   K (%)\n",
        "\n",
        "---\n",
        "## NCPS\n",
        "###**Углеводы**\n",
        "* НДК в рационе (% СВ)\n",
        "* аНДК фуража (% СВ)\n",
        "* peNDF (% СВ)\n",
        "* CHO B3 fast pool Потребление (% СВ)\n",
        "* CHO B3 slow pool Потребление (% СВ)\n",
        "* uNDF Потребление (% СВ)\n",
        "* peuNDF Потребление (% СВ)\n",
        "* NFC рациона (% СВ)\n",
        "* Расторим. Клетчатка деградир. (% СВ)\\\n",
        "###**Протеин**\n",
        "* РДП (%СП)\n",
        "* Растворимый протеин (%СП)\\\n",
        "###**Длинноцепочечные жирные кислоты**\n",
        "* LCFA - ДЦЖК потребление (г/дн)\n",
        "* LCFA -ДЦЖК непредельные (г/дн)\n",
        "* LCFA -ДЦЖК липолизированные (г/дн)\n",
        "* LCFA -ДЦЖК кишечника (г/дн)\n",
        "* LCFA -ДЦЖК переваримые (г/дн)\n",
        "###**DCAD**\n",
        "* [Na + K] - [Cl + S] (mEq/100 г)\n",
        "###**ЖК**\n",
        "* общие НЖК\n",
        "* общие ПНЖК\n",
        "* RUFAL\n",
        "* C12:0\n",
        "* C14:0\n",
        "* C16:0\n",
        "* C16:1\n",
        "* C18:0\n",
        "* C18:1\n",
        "* C18:1Т\n",
        "* C18:1С\n",
        "* C18:3\n",
        "---"
      ],
      "metadata": {
        "id": "98Dd57_T5wvI"
      }
    },
    {
      "cell_type": "markdown",
      "source": [
        "#Парсинг pdf"
      ],
      "metadata": {
        "id": "kkWVHcFIao04"
      }
    },
    {
      "cell_type": "code",
      "source": [
        "# @title\n",
        "# Логгирование вместо print\n",
        "logging.basicConfig(\n",
        "    filename='parse_pdf.log',       # файл, куда будет писаться лог\n",
        "    level=logging.INFO,             # уровень сообщений (INFO, WARNING, ERROR)\n",
        "    format='%(asctime)s - %(levelname)s - %(message)s',\n",
        "    encoding='utf-8'\n",
        ")\n"
      ],
      "metadata": {
        "id": "JLdqFRLEAAtR",
        "cellView": "form"
      },
      "execution_count": null,
      "outputs": []
    },
    {
      "cell_type": "code",
      "execution_count": null,
      "metadata": {
        "id": "dqvQ0h8BU_vX",
        "cellView": "form"
      },
      "outputs": [],
      "source": [
        "# @title\n",
        "def parse_pdf_files_from_directories(root_directories, output_dir=None):\n",
        "    \"\"\"\n",
        "    Parses PDF files from multiple directories and extracts recipe, analysis,\n",
        "    and summary analysis data (\"Сводный анализ: Лактирующая корова\")\n",
        "    \"\"\"\n",
        "\n",
        "    def extract_tables_from_pdf(pdf_path):\n",
        "        \"\"\"Извлекает таблицы и текст из PDF\"\"\"\n",
        "        tables_data = {}\n",
        "        try:\n",
        "            with pdfplumber.open(pdf_path) as pdf:\n",
        "                for page_num, page in enumerate(pdf.pages):\n",
        "                    tables = page.extract_tables()\n",
        "                    for table_num, table in enumerate(tables):\n",
        "                        if table and len(table) > 1:\n",
        "                            key = f\"page_{page_num + 1}_table_{table_num + 1}\"\n",
        "                            tables_data[key] = table\n",
        "\n",
        "                    text = page.extract_text()\n",
        "                    if text:\n",
        "                        tables_data[f\"page_{page_num + 1}_text\"] = text\n",
        "        except Exception as e:\n",
        "            logging.exception(f\"Error extracting from {pdf_path}: {e}\")\n",
        "        return tables_data\n",
        "\n",
        "    def parse_recipe_from_tables(tables_data, file_name, file_path):\n",
        "        \"\"\"Парсит таблицу с ингредиентами\"\"\"\n",
        "        recipe_data = []\n",
        "\n",
        "        for table_key, table in tables_data.items():\n",
        "            if 'table' in table_key:\n",
        "                header_row = None\n",
        "                for i, row in enumerate(table):\n",
        "                    if row and any('Ингредиенты' in str(cell) for cell in row if cell):\n",
        "                        header_row = i\n",
        "                        break\n",
        "\n",
        "                if header_row is not None:\n",
        "                    for row in table[header_row:]:\n",
        "                        if row and len(row) > 3 and row[0] and 'Ингредиенты' not in str(row[0]):\n",
        "                            cleaned_row = [str(cell).strip() if cell else '' for cell in row]\n",
        "\n",
        "                            ingredient_data = {\n",
        "                                'Ингредиенты': cleaned_row[0],\n",
        "                                'СВ_%': cleaned_row[1] if len(cleaned_row) > 1 else '',\n",
        "                                'ГП_кг': cleaned_row[2] if len(cleaned_row) > 2 else '',\n",
        "                                'СВ_кг': cleaned_row[3] if len(cleaned_row) > 3 else '',\n",
        "                                '%_ГП': cleaned_row[4] if len(cleaned_row) > 4 else '',\n",
        "                                '%_СВ': cleaned_row[5] if len(cleaned_row) > 5 else '',\n",
        "                                'рацион': file_name.replace('.pdf', ''),\n",
        "                                'директория': os.path.dirname(file_path)\n",
        "                            }\n",
        "                            recipe_data.append(ingredient_data)\n",
        "                    break\n",
        "\n",
        "        return pd.DataFrame(recipe_data)\n",
        "\n",
        "    def parse_analysis_from_tables(tables_data, file_name, file_path):\n",
        "        \"\"\"Парсит основные показатели анализа (Сводный анализ: Лактирующая корова)\"\"\"\n",
        "        import re\n",
        "\n",
        "        # Метаданные\n",
        "        analysis_data = {\n",
        "            'рацион': file_name.replace('.pdf', ''),\n",
        "            'исходный_файл': file_name,\n",
        "            'путь_к_файлу': file_path,\n",
        "            'директория': os.path.dirname(file_path)\n",
        "        }\n",
        "\n",
        "        # 🔑 Единый список ключевых параметров (без повторов)\n",
        "        key_parameters = [\n",
        "            'СП', 'aNDFom',\n",
        "            'CHO C uNDF', 'Сахар (ВРУ)', 'Крахмал', 'Растворимая', 'Растворимая клетчатка',\n",
        "            'НВУ', 'СЖ', 'ОЖК', 'Зола', 'Ca', 'P', 'Mg', 'K', 'Na', 'peNDF'\n",
        "        ]\n",
        "\n",
        "        # Проходим по всем таблицам\n",
        "        for table_key, table in tables_data.items():\n",
        "            if 'table' not in table_key:\n",
        "                continue\n",
        "\n",
        "            for row in table:\n",
        "                if not row or len(row) < 3:\n",
        "                    continue\n",
        "\n",
        "                nutrient = str(row[0]).strip()\n",
        "                if not nutrient:\n",
        "                    continue\n",
        "\n",
        "                # Проверяем, есть ли этот параметр в списке\n",
        "                for kp in key_parameters:\n",
        "                    if nutrient.strip().lower().startswith(kp.lower()):\n",
        "                        value = row[2] if len(row) > 2 else ''\n",
        "                        if value:\n",
        "                            val = str(value).replace(',', '.').replace(' ', '')\n",
        "                            match = re.search(r'[-+]?\\d*\\.?\\d+', val)\n",
        "                            if match:\n",
        "                                try:\n",
        "                                    analysis_data[kp] = float(match.group())\n",
        "                                except:\n",
        "                                    analysis_data[kp] = match.group()\n",
        "                            else:\n",
        "                                analysis_data[kp] = None\n",
        "                        else:\n",
        "                            analysis_data[kp] = None\n",
        "                        break\n",
        "\n",
        "        # 🧩 Добавляем отсутствующие ключи, чтобы все строки имели одинаковые столбцы\n",
        "        for kp in key_parameters:\n",
        "            if kp not in analysis_data:\n",
        "                analysis_data[kp] = None\n",
        "\n",
        "        return analysis_data\n",
        "\n",
        "\n",
        "    def parse_summary_analysis_from_tables(tables_data, file_name, file_path):\n",
        "        \"\"\"Парсит таблицу 'Сводный анализ: Лактирующая корова'\"\"\"\n",
        "        import re\n",
        "        summary_rows = []\n",
        "\n",
        "        for table_key, table in tables_data.items():\n",
        "            if 'table' not in table_key:\n",
        "                continue\n",
        "\n",
        "            # Ищем таблицу, начинающуюся с \"Нутриент\"\n",
        "            header_found = False\n",
        "            for i, row in enumerate(table):\n",
        "                if row and any('Нутриент' in str(cell) for cell in row if cell):\n",
        "                    header_found = True\n",
        "                    header_index = i\n",
        "                    break\n",
        "\n",
        "            if not header_found:\n",
        "                continue\n",
        "\n",
        "            # Считываем строки таблицы\n",
        "            for row in table[header_index + 1:]:\n",
        "                if not row or len(row) < 4:\n",
        "                    continue\n",
        "\n",
        "                nutrient = str(row[0]).strip()\n",
        "                if not nutrient or nutrient.lower().startswith('сводка'):\n",
        "                    break  # конец таблицы\n",
        "\n",
        "                def to_float(value):\n",
        "                    try:\n",
        "                        v = str(value).replace(',', '.').replace(' ', '')\n",
        "                        match = re.search(r'[-+]?\\d*\\.?\\d+', v)\n",
        "                        return float(match.group()) if match else None\n",
        "                    except:\n",
        "                        return None\n",
        "\n",
        "                summary_rows.append({\n",
        "                    'Нутриент': nutrient,\n",
        "                    'СВ': to_float(row[2]),\n",
        "                    'Содержание': to_float(row[3]),\n",
        "                    'рацион': file_name.replace('.pdf', ''),\n",
        "                    'исходный_файл': file_name,\n",
        "                    'путь_к_файлу': file_path,\n",
        "                    'директория': os.path.dirname(file_path)\n",
        "                })\n",
        "\n",
        "        return pd.DataFrame(summary_rows)\n",
        "\n",
        "    def decode_feed_type(ingredient):\n",
        "        \"\"\"Определяет вид корма по коду\"\"\"\n",
        "        if isinstance(ingredient, str):\n",
        "            match = re.search(r'(\\d{4})\\.(\\d{2})\\.(\\d{2})\\.(\\d{2})', str(ingredient))\n",
        "            if match:\n",
        "                code = match.group(4)\n",
        "                if code == '01':\n",
        "                    return 'сенаж'\n",
        "                elif code == '02':\n",
        "                    return 'силос'\n",
        "                elif code == '07':\n",
        "                    return 'корнаж'\n",
        "        return 'другое'\n",
        "\n",
        "    # === Основная логика ===\n",
        "    if output_dir is None:\n",
        "        output_dir = os.getcwd()\n",
        "\n",
        "    if isinstance(root_directories, str):\n",
        "        root_directories = [root_directories]\n",
        "\n",
        "    pdf_files = []\n",
        "    for root_dir in root_directories:\n",
        "        if os.path.exists(root_dir):\n",
        "            found_files = glob.glob(os.path.join(root_dir, '**', '*.pdf'), recursive=True)\n",
        "            pdf_files.extend(found_files)\n",
        "        else:\n",
        "            logging.warning(f\"Directory not found: {root_dir}\")\n",
        "\n",
        "    logging.info(f\"Found {len(pdf_files)} PDF files\")\n",
        "\n",
        "    all_recipes = []\n",
        "    all_analyses = []\n",
        "    all_summary = []\n",
        "    stats = {\n",
        "        'total_files': len(pdf_files),\n",
        "        'successful_files': 0,\n",
        "        'failed_files': 0,\n",
        "        'files_with_recipes': 0,\n",
        "        'files_with_analysis': 0,\n",
        "        'files_with_summary': 0,\n",
        "        'failed_file_list': []\n",
        "    }\n",
        "\n",
        "    for pdf_path in pdf_files:\n",
        "        try:\n",
        "            file_name = os.path.basename(pdf_path)\n",
        "            logging.info(f\"Processing: {pdf_path}\")\n",
        "\n",
        "            tables_data = extract_tables_from_pdf(pdf_path)\n",
        "\n",
        "            recipe_df = parse_recipe_from_tables(tables_data, file_name, pdf_path)\n",
        "            if not recipe_df.empty:\n",
        "                all_recipes.append(recipe_df)\n",
        "                stats['files_with_recipes'] += 1\n",
        "\n",
        "            analysis_dict = parse_analysis_from_tables(tables_data, file_name, pdf_path)\n",
        "            if len(analysis_dict) > 1:\n",
        "                all_analyses.append(analysis_dict)\n",
        "                stats['files_with_analysis'] += 1\n",
        "\n",
        "            summary_df = parse_summary_analysis_from_tables(tables_data, file_name, pdf_path)\n",
        "            if not summary_df.empty:\n",
        "                all_summary.append(summary_df)\n",
        "                stats['files_with_summary'] += 1\n",
        "\n",
        "            stats['successful_files'] += 1\n",
        "            logging.info(f\"✓ Successfully processed: {file_name}\")\n",
        "\n",
        "        except Exception as e:\n",
        "            stats['failed_files'] += 1\n",
        "            stats['failed_file_list'].append((pdf_path, str(e)))\n",
        "            logging.error(f\"✗ Failed to process {pdf_path}: {e}\")\n",
        "\n",
        "    # === Объединение результатов ===\n",
        "    results = {}\n",
        "\n",
        "    if all_recipes:\n",
        "        recipes_combined = pd.concat(all_recipes, ignore_index=True)\n",
        "        recipes_combined['вид_корма'] = recipes_combined['Ингредиенты'].apply(decode_feed_type)\n",
        "        results['recipes'] = recipes_combined\n",
        "    else:\n",
        "        results['recipes'] = pd.DataFrame()\n",
        "\n",
        "    results['analyses'] = pd.DataFrame(all_analyses) if all_analyses else pd.DataFrame()\n",
        "    results['summary_analysis'] = pd.concat(all_summary, ignore_index=True) if all_summary else pd.DataFrame()\n",
        "    results['statistics'] = stats\n",
        "\n",
        "    # === Сохранение ===\n",
        "    os.makedirs(output_dir, exist_ok=True)\n",
        "\n",
        "    if not results['recipes'].empty:\n",
        "        path = os.path.join(output_dir, 'all_recipes_combined.csv')\n",
        "        results['recipes'].to_csv(path, index=False, encoding='utf-8-sig')\n",
        "        results['recipe_file_path'] = path\n",
        "\n",
        "    if not results['analyses'].empty:\n",
        "        path = os.path.join(output_dir, 'all_analyses_combined.csv')\n",
        "        results['analyses'].to_csv(path, index=False, encoding='utf-8-sig')\n",
        "        results['analysis_file_path'] = path\n",
        "\n",
        "    if not results['summary_analysis'].empty:\n",
        "        path = os.path.join(output_dir, 'summary_analysis_combined.csv')\n",
        "        results['summary_analysis'].to_csv(path, index=False, encoding='utf-8-sig')\n",
        "        results['summary_file_path'] = path\n",
        "\n",
        "    stats_df = pd.DataFrame([stats])\n",
        "    stats_path = os.path.join(output_dir, 'processing_statistics.csv')\n",
        "    stats_df.to_csv(stats_path, index=False)\n",
        "    results['statistics_file_path'] = stats_path\n",
        "\n",
        "    return results\n"
      ]
    },
    {
      "cell_type": "code",
      "execution_count": null,
      "metadata": {
        "id": "juB3_7LkZV1v",
        "collapsed": true,
        "cellView": "form"
      },
      "outputs": [],
      "source": [
        "# @title\n",
        "# Set root and output directories\n",
        "results = parse_pdf_files_from_directories(\n",
        "    root_directories='/content/drive/MyDrive/Khacathon/prim_data/primary_pdfs',\n",
        "    output_dir='/content/drive/MyDrive/Khacathon/output/'\n",
        ")"
      ]
    },
    {
      "cell_type": "markdown",
      "source": [
        "#Выгрузка"
      ],
      "metadata": {
        "id": "g9tr-ioScTJS"
      }
    },
    {
      "cell_type": "code",
      "source": [
        "def read_csv_from_gdrive(url: str) -> pd.DataFrame:\n",
        "    \"\"\"\n",
        "    Загружает CSV-файл с Google Drive или Google Sheets по ссылке.\n",
        "    Возвращает pandas.DataFrame.\n",
        "\n",
        "    Поддерживаются:\n",
        "    - Ссылки формата https://drive.google.com/file/d/<ID>/view?usp=sharing\n",
        "    - Ссылки на Google Sheets: https://docs.google.com/spreadsheets/d/<ID>/edit\n",
        "    \"\"\"\n",
        "\n",
        "    # Google Sheets\n",
        "    if \"spreadsheets\" in url:\n",
        "        match = re.search(r\"/spreadsheets/d/([a-zA-Z0-9-_]+)\", url)\n",
        "        if not match:\n",
        "            raise ValueError(\"Невозможно извлечь ID из ссылки Google Sheets\")\n",
        "        sheet_id = match.group(1)\n",
        "\n",
        "        # пробуем извлечь имя листа, если указано\n",
        "        sheet_match = re.search(r\"gid=(\\d+)\", url)\n",
        "        sheet_part = f\"&gid={sheet_match.group(1)}\" if sheet_match else \"\"\n",
        "\n",
        "        sheet_url = f\"https://docs.google.com/spreadsheets/d/{sheet_id}/gviz/tq?tqx=out:csv{sheet_part}\"\n",
        "        return pd.read_csv(sheet_url, encoding='utf-8-sig', on_bad_lines='skip')\n",
        "\n",
        "    # Google Drive file\n",
        "    elif \"drive.google.com\" in url:\n",
        "        match = re.search(r\"/d/([a-zA-Z0-9-_]+)\", url)\n",
        "        if not match:\n",
        "            raise ValueError(\"Невозможно извлечь ID из ссылки Google Drive\")\n",
        "        file_id = match.group(1)\n",
        "\n",
        "        download_url = f\"https://drive.google.com/uc?export=download&id={file_id}\"\n",
        "        output_path = \"temp_download.csv\"\n",
        "\n",
        "        # пробуем скачать с помощью gdown\n",
        "        gdown.download(download_url, output_path, quiet=False)\n",
        "        return pd.read_csv(output_path)\n",
        "\n",
        "    else:\n",
        "        raise ValueError(\"Ссылка не похожа на Google Drive или Google Sheets\")\n"
      ],
      "metadata": {
        "id": "WG0bsQaF_OgM"
      },
      "execution_count": 112,
      "outputs": []
    },
    {
      "cell_type": "code",
      "source": [
        "# Скачиваем данные о нутриентах (сводный анализ, лактирующая корова)\n",
        "url1 = \"https://drive.google.com/file/d/1GJPKJpK8M7y-PDqc78TbXphpai3QWvgd/view?usp=sharing\"\n",
        "nutrients = read_csv_from_gdrive(url1)"
      ],
      "metadata": {
        "colab": {
          "base_uri": "https://localhost:8080/"
        },
        "id": "zONcz2xxAFp3",
        "outputId": "84e310c0-d209-44ba-b8ac-872f9d0ce843"
      },
      "execution_count": 113,
      "outputs": [
        {
          "output_type": "stream",
          "name": "stderr",
          "text": [
            "Downloading...\n",
            "From: https://drive.google.com/uc?export=download&id=1GJPKJpK8M7y-PDqc78TbXphpai3QWvgd\n",
            "To: /content/temp_download.csv\n",
            "100%|██████████| 37.9k/37.9k [00:00<00:00, 21.8MB/s]\n"
          ]
        }
      ]
    },
    {
      "cell_type": "markdown",
      "source": [
        "#Инфо о таблицах"
      ],
      "metadata": {
        "id": "ewAM74X4c0fU"
      }
    },
    {
      "cell_type": "markdown",
      "source": [
        "Красным отмечено чего нет в пдф файлах\n",
        "![image.png](data:image/png;base64,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)"
      ],
      "metadata": {
        "id": "swfJvNV-oCPn"
      }
    },
    {
      "cell_type": "markdown",
      "source": [
        "еще момент среди"
      ],
      "metadata": {
        "id": "b6J8S3NJwbZh"
      }
    },
    {
      "cell_type": "markdown",
      "source": [
        "# Визуализация\n"
      ],
      "metadata": {
        "id": "JzWkukNPDKhu"
      }
    },
    {
      "cell_type": "code",
      "source": [
        "import pandas as pd\n",
        "import numpy as np\n",
        "import matplotlib.pyplot as plt\n",
        "from pathlib import Path\n",
        "\n",
        "nutrient_cols = ['трав_сен', 'конц_зерн', 'масличн', 'жир', 'пром_отх', 'мин_техно',\n",
        " 'сп', 'крахмал', 'andfom', 'сахар (вру)', 'нву', 'ожк', 'k']\n",
        "\n",
        "acid_cols = ['масляная', 'капроновая', 'каприловая', 'каприновая', 'деценовая', 'лауриновая',\n",
        "       'миристиновая', 'миристолеиновая', 'пальмитиновая', 'пальмитолеиновая',\n",
        "       'стеариновая', 'олеиновая', 'линолевая', 'линоленовая', 'арахиновая']\n",
        "\n",
        "df = training_df.copy()\n",
        "\n",
        "# оставляем только нужные колонки\n",
        "df = df[[c for c in nutrient_cols + acid_cols if c in df.columns]].copy()\n",
        "\n",
        "# корреляционная матрица\n",
        "corr_matrix = df.corr()\n",
        "\n",
        "acid_vs_nutrient_corr = corr_matrix.loc[acid_cols, nutrient_cols]\n",
        "print(\"\\nКорреляции кислот с нутриентами:\")\n",
        "print(acid_vs_nutrient_corr.round(3))\n",
        "\n"
      ],
      "metadata": {
        "colab": {
          "base_uri": "https://localhost:8080/"
        },
        "id": "C82H1zskDLKV",
        "outputId": "8a9582f9-edb8-4195-d6c9-8daff8836b45"
      },
      "execution_count": 212,
      "outputs": [
        {
          "output_type": "stream",
          "name": "stdout",
          "text": [
            "\n",
            "Корреляции кислот с нутриентами:\n",
            "                  трав_сен  конц_зерн  масличн    жир  пром_отх  мин_техно  \\\n",
            "масляная            -0.044      0.014    0.090 -0.167    -0.042      0.149   \n",
            "капроновая          -0.038      0.113   -0.144 -0.211     0.212     -0.095   \n",
            "каприловая          -0.055      0.105   -0.112 -0.133     0.300     -0.304   \n",
            "каприновая          -0.027      0.078    0.011 -0.064     0.255     -0.329   \n",
            "деценовая            0.027     -0.001   -0.120 -0.230     0.258     -0.131   \n",
            "лауриновая          -0.003      0.041   -0.054 -0.055     0.314     -0.244   \n",
            "миристиновая         0.083      0.063   -0.171 -0.107     0.188     -0.349   \n",
            "миристолеиновая      0.151      0.004   -0.220 -0.115     0.260     -0.137   \n",
            "пальмитиновая        0.099     -0.069   -0.133 -0.024     0.334     -0.082   \n",
            "пальмитолеиновая     0.077     -0.183    0.010  0.094     0.097      0.579   \n",
            "стеариновая         -0.080      0.037    0.152 -0.019    -0.341     -0.020   \n",
            "олеиновая           -0.045     -0.016    0.116  0.060    -0.333      0.281   \n",
            "линолевая           -0.273      0.091    0.208  0.337     0.069      0.018   \n",
            "линоленовая          0.423      0.052   -0.411 -0.341    -0.112     -0.437   \n",
            "арахиновая           0.222     -0.008   -0.046 -0.187    -0.329     -0.423   \n",
            "\n",
            "                     сп  крахмал  andfom  сахар (вру)    нву    ожк      k  \n",
            "масляная         -0.052   -0.521   0.304        0.292 -0.233  0.054  0.269  \n",
            "капроновая       -0.082   -0.019   0.047       -0.000  0.022  0.006  0.052  \n",
            "каприловая        0.042    0.447  -0.198       -0.092  0.344 -0.014  0.046  \n",
            "каприновая        0.149    0.586  -0.257        0.014  0.507 -0.039  0.088  \n",
            "деценовая        -0.173    0.270  -0.010        0.135  0.188 -0.259  0.110  \n",
            "лауриновая        0.108    0.581  -0.276        0.019  0.476 -0.103  0.077  \n",
            "миристиновая     -0.024    0.540  -0.215       -0.140  0.369 -0.152 -0.028  \n",
            "миристолеиновая  -0.149    0.432  -0.191       -0.042  0.273 -0.207 -0.027  \n",
            "пальмитиновая     0.016    0.253  -0.115        0.110  0.238  0.073  0.157  \n",
            "пальмитолеиновая -0.007   -0.350   0.084        0.276 -0.206 -0.133  0.085  \n",
            "стеариновая      -0.040   -0.397   0.242       -0.079 -0.328  0.072 -0.061  \n",
            "олеиновая        -0.070   -0.506   0.223       -0.002 -0.425 -0.014 -0.090  \n",
            "линолевая         0.373    0.540  -0.470       -0.248  0.347  0.166 -0.287  \n",
            "линоленовая      -0.096   -0.002   0.157       -0.292 -0.103 -0.224  0.055  \n",
            "арахиновая       -0.257   -0.130   0.230       -0.199 -0.212 -0.062 -0.122  \n"
          ]
        }
      ]
    },
    {
      "cell_type": "code",
      "source": [
        "# построение графиков\n",
        "plots_dir = Path('plots_acids_vs_nutrients')\n",
        "plots_dir.mkdir(parents=True, exist_ok=True)\n",
        "\n",
        "for acid in acid_cols:\n",
        "    for nut in nutrient_cols:\n",
        "        if acid in df.columns and nut in df.columns:\n",
        "            plt.figure(figsize=(5, 4))\n",
        "            plt.scatter(df[nut], df[acid], alpha=0.7)\n",
        "            plt.xlabel(nut)\n",
        "            plt.ylabel(acid)\n",
        "            plt.title(f\"{acid} vs {nut}\")\n",
        "            plt.tight_layout()\n",
        "            plt.savefig(plots_dir / f\"{acid}_vs_{nut}.png\", dpi=150)\n",
        "            plt.close()\n",
        "\n",
        "print(f\"Графики сохранены в папке: {plots_dir.resolve()}\")\n"
      ],
      "metadata": {
        "id": "sLTq0NUqDJQA"
      },
      "execution_count": null,
      "outputs": []
    },
    {
      "cell_type": "markdown",
      "source": [
        "# ML-модель на категориях \"Травяные сенажи\", \"Зерновые+концентраты\" и т.п."
      ],
      "metadata": {
        "id": "XnPSsRWHRnju"
      }
    },
    {
      "cell_type": "code",
      "source": [
        "#Libraries\n",
        "!pip install pdfplumber pandas numpy gdown\n",
        "import pdfplumber\n",
        "import pandas as pd\n",
        "import numpy as np\n",
        "import re\n",
        "import os\n",
        "from pathlib import Path\n",
        "import glob\n",
        "import gdown\n",
        "#For ML part\n",
        "from sklearn.linear_model import LinearRegression\n",
        "from sklearn.model_selection import train_test_split\n",
        "from sklearn.metrics import mean_squared_error, r2_score\n",
        "from sklearn.preprocessing import StandardScaler, MinMaxScaler\n",
        "import matplotlib.pyplot as plt\n",
        "import seaborn as sns"
      ],
      "metadata": {
        "colab": {
          "base_uri": "https://localhost:8080/"
        },
        "id": "hOD-6cogXFoN",
        "outputId": "9149e18b-6884-4714-d719-4a284b59abae"
      },
      "execution_count": 213,
      "outputs": [
        {
          "output_type": "stream",
          "name": "stdout",
          "text": [
            "Requirement already satisfied: pdfplumber in /usr/local/lib/python3.12/dist-packages (0.11.7)\n",
            "Requirement already satisfied: pandas in /usr/local/lib/python3.12/dist-packages (2.2.2)\n",
            "Requirement already satisfied: numpy in /usr/local/lib/python3.12/dist-packages (2.0.2)\n",
            "Requirement already satisfied: gdown in /usr/local/lib/python3.12/dist-packages (5.2.0)\n",
            "Requirement already satisfied: pdfminer.six==20250506 in /usr/local/lib/python3.12/dist-packages (from pdfplumber) (20250506)\n",
            "Requirement already satisfied: Pillow>=9.1 in /usr/local/lib/python3.12/dist-packages (from pdfplumber) (11.3.0)\n",
            "Requirement already satisfied: pypdfium2>=4.18.0 in /usr/local/lib/python3.12/dist-packages (from pdfplumber) (4.30.0)\n",
            "Requirement already satisfied: charset-normalizer>=2.0.0 in /usr/local/lib/python3.12/dist-packages (from pdfminer.six==20250506->pdfplumber) (3.4.3)\n",
            "Requirement already satisfied: cryptography>=36.0.0 in /usr/local/lib/python3.12/dist-packages (from pdfminer.six==20250506->pdfplumber) (43.0.3)\n",
            "Requirement already satisfied: python-dateutil>=2.8.2 in /usr/local/lib/python3.12/dist-packages (from pandas) (2.9.0.post0)\n",
            "Requirement already satisfied: pytz>=2020.1 in /usr/local/lib/python3.12/dist-packages (from pandas) (2025.2)\n",
            "Requirement already satisfied: tzdata>=2022.7 in /usr/local/lib/python3.12/dist-packages (from pandas) (2025.2)\n",
            "Requirement already satisfied: beautifulsoup4 in /usr/local/lib/python3.12/dist-packages (from gdown) (4.13.5)\n",
            "Requirement already satisfied: filelock in /usr/local/lib/python3.12/dist-packages (from gdown) (3.19.1)\n",
            "Requirement already satisfied: requests[socks] in /usr/local/lib/python3.12/dist-packages (from gdown) (2.32.4)\n",
            "Requirement already satisfied: tqdm in /usr/local/lib/python3.12/dist-packages (from gdown) (4.67.1)\n",
            "Requirement already satisfied: six>=1.5 in /usr/local/lib/python3.12/dist-packages (from python-dateutil>=2.8.2->pandas) (1.17.0)\n",
            "Requirement already satisfied: soupsieve>1.2 in /usr/local/lib/python3.12/dist-packages (from beautifulsoup4->gdown) (2.8)\n",
            "Requirement already satisfied: typing-extensions>=4.0.0 in /usr/local/lib/python3.12/dist-packages (from beautifulsoup4->gdown) (4.15.0)\n",
            "Requirement already satisfied: idna<4,>=2.5 in /usr/local/lib/python3.12/dist-packages (from requests[socks]->gdown) (3.10)\n",
            "Requirement already satisfied: urllib3<3,>=1.21.1 in /usr/local/lib/python3.12/dist-packages (from requests[socks]->gdown) (2.5.0)\n",
            "Requirement already satisfied: certifi>=2017.4.17 in /usr/local/lib/python3.12/dist-packages (from requests[socks]->gdown) (2025.8.3)\n",
            "Requirement already satisfied: PySocks!=1.5.7,>=1.5.6 in /usr/local/lib/python3.12/dist-packages (from requests[socks]->gdown) (1.7.1)\n",
            "Requirement already satisfied: cffi>=1.12 in /usr/local/lib/python3.12/dist-packages (from cryptography>=36.0.0->pdfminer.six==20250506->pdfplumber) (2.0.0)\n",
            "Requirement already satisfied: pycparser in /usr/local/lib/python3.12/dist-packages (from cffi>=1.12->cryptography>=36.0.0->pdfminer.six==20250506->pdfplumber) (2.23)\n"
          ]
        }
      ]
    },
    {
      "cell_type": "code",
      "source": [
        "pd.set_option('display.max_colwidth', None)\n",
        "pd.set_option('display.max_columns', None)"
      ],
      "metadata": {
        "id": "6y1ITlkZPn2-"
      },
      "execution_count": 214,
      "outputs": []
    },
    {
      "cell_type": "code",
      "source": [
        "# @title\n",
        "def read_csv_from_gdrive(url: str) -> pd.DataFrame:\n",
        "    \"\"\"\n",
        "    Загружает CSV-файл с Google Drive или Google Sheets по ссылке.\n",
        "    Возвращает pandas.DataFrame.\n",
        "\n",
        "    Поддерживаются:\n",
        "    - Ссылки формата https://drive.google.com/file/d/<ID>/view?usp=sharing\n",
        "    - Ссылки на Google Sheets: https://docs.google.com/spreadsheets/d/<ID>/edit\n",
        "    \"\"\"\n",
        "\n",
        "    # Google Sheets\n",
        "    if \"spreadsheets\" in url:\n",
        "        match = re.search(r\"/spreadsheets/d/([a-zA-Z0-9-_]+)\", url)\n",
        "        if not match:\n",
        "            raise ValueError(\"Невозможно извлечь ID из ссылки Google Sheets\")\n",
        "        sheet_id = match.group(1)\n",
        "\n",
        "        # пробуем извлечь имя листа, если указано\n",
        "        sheet_match = re.search(r\"gid=(\\d+)\", url)\n",
        "        sheet_part = f\"&gid={sheet_match.group(1)}\" if sheet_match else \"\"\n",
        "\n",
        "        sheet_url = f\"https://docs.google.com/spreadsheets/d/{sheet_id}/gviz/tq?tqx=out:csv{sheet_part}\"\n",
        "        return pd.read_csv(sheet_url, encoding='utf-8-sig', on_bad_lines='skip')\n",
        "\n",
        "    # Google Drive file\n",
        "    elif \"drive.google.com\" in url:\n",
        "        match = re.search(r\"/d/([a-zA-Z0-9-_]+)\", url)\n",
        "        if not match:\n",
        "            raise ValueError(\"Невозможно извлечь ID из ссылки Google Drive\")\n",
        "        file_id = match.group(1)\n",
        "\n",
        "        download_url = f\"https://drive.google.com/uc?export=download&id={file_id}\"\n",
        "        output_path = \"temp_download.csv\"\n",
        "\n",
        "        # пробуем скачать с помощью gdown\n",
        "        gdown.download(download_url, output_path, quiet=False)\n",
        "        return pd.read_csv(output_path)\n",
        "\n",
        "    else:\n",
        "        raise ValueError(\"Ссылка не похожа на Google Drive или Google Sheets\")\n"
      ],
      "metadata": {
        "id": "GNlCQWz0pAg7"
      },
      "execution_count": 215,
      "outputs": []
    },
    {
      "cell_type": "code",
      "source": [
        "#загрузка с гугл диска напрямую\n",
        "url1 = \"https://drive.google.com/file/d/1GJPKJpK8M7y-PDqc78TbXphpai3QWvgd/view?usp=sharing\"\n",
        "analyses_df = read_csv_from_gdrive(url1)\n",
        "url2 = \"https://docs.google.com/spreadsheets/d/1rXqVCfBKCVTwUGVxXHaV73-ZB4YeEciq2tJ9AWtOT9s/edit?usp=sharing\"\n",
        "recipes_df = read_csv_from_gdrive(url2)\n",
        "url3='https://docs.google.com/spreadsheets/d/1FJLbmeOy3q9CVcBa9loRa-SrMd0CsARWn9ypQKd6WpY/edit?usp=sharing'\n",
        "fatty_acids_df = read_csv_from_gdrive(url3)\n",
        "\n",
        "print(\"📊 Данные загружены:\")\n",
        "print(f\"Анализы: {analyses_df.shape}\")\n",
        "print(f\"Рецепты: {recipes_df.shape}\")\n",
        "print(f\"Жирные кислоты: {fatty_acids_df.shape}\")"
      ],
      "metadata": {
        "id": "j2_DFcKgRm40",
        "colab": {
          "base_uri": "https://localhost:8080/"
        },
        "outputId": "8ae9a26c-2a50-4224-cf81-1f099bab7514"
      },
      "execution_count": 216,
      "outputs": [
        {
          "output_type": "stream",
          "name": "stderr",
          "text": [
            "Downloading...\n",
            "From: https://drive.google.com/uc?export=download&id=1GJPKJpK8M7y-PDqc78TbXphpai3QWvgd\n",
            "To: /content/temp_download.csv\n",
            "100%|██████████| 37.9k/37.9k [00:00<00:00, 55.8MB/s]\n"
          ]
        },
        {
          "output_type": "stream",
          "name": "stdout",
          "text": [
            "📊 Данные загружены:\n",
            "Анализы: (94, 22)\n",
            "Рецепты: (1128, 11)\n",
            "Жирные кислоты: (106, 23)\n"
          ]
        }
      ]
    },
    {
      "cell_type": "markdown",
      "source": [
        "ожидаемый результат Анализы: (94, 16)\n",
        "Рецепты: (1128, 11)\n",
        "Жирные кислоты: (106, 22)"
      ],
      "metadata": {
        "id": "RHyS8uScSbeT"
      }
    },
    {
      "cell_type": "markdown",
      "source": [
        "Работаем с таблицей \"рецепты\". Выкидываем \"общие значения\""
      ],
      "metadata": {
        "id": "DQ2oJ8YSEVpV"
      }
    },
    {
      "cell_type": "code",
      "source": [
        "recipes_df.drop(recipes_df[recipes_df['Ингредиенты'] =='Общие значения'].index, inplace = True)"
      ],
      "metadata": {
        "id": "91o8puf5SIXR"
      },
      "execution_count": 118,
      "outputs": []
    },
    {
      "cell_type": "markdown",
      "source": [
        "Извлекаем числовые коды из названий ингредиентов, номер культуры и вида корма сохраняем в колонки culture, feed_code"
      ],
      "metadata": {
        "id": "2JhXbjVZEXy8"
      }
    },
    {
      "cell_type": "code",
      "source": [
        "def extract_codes(text):\n",
        "    pattern = r'(\\d{4}\\.\\d{2}\\.\\d{2}\\.\\d{1,2})'\n",
        "    match = re.search(pattern, str(text))\n",
        "    if match:\n",
        "        code = match.group(1)\n",
        "        parts = code.split('.')\n",
        "        if len(parts) >= 4:\n",
        "            culture_code = parts[2]\n",
        "            feed_code = parts[3]\n",
        "            return culture_code, feed_code\n",
        "    return None, None"
      ],
      "metadata": {
        "id": "vqjVAYcGSWxS"
      },
      "execution_count": 119,
      "outputs": []
    },
    {
      "cell_type": "code",
      "source": [
        "recipes_df['culture'], recipes_df['feed_code'] = zip(*recipes_df['Ингредиенты'].apply(extract_codes))"
      ],
      "metadata": {
        "id": "hI-tQD6CScJ7"
      },
      "execution_count": 120,
      "outputs": []
    },
    {
      "cell_type": "code",
      "source": [
        "\n",
        "culture_dict = {\n",
        "    \"01\": \"Люцерна\",\"02\": \"Эспарцет\",\"03\": \"Многолетние травы\",\"04\": \"Луговые травы\",\n",
        "    \"05\": \"Кукуруза\",\"06\": \"Суданская трава\",\"07\": \"Вико-овес\",\"08\": \"Люцерна 1 г.ж.\",\n",
        "    \"09\": \"Клевер + Тимофеевка\",\"10\": \"Однолетние травы\",\"11\": \"Райграс\",\"12\": \"Тритикале\",\n",
        "    \"13\": \"Рожь\",\"14\": \"Клевер\",\"15\": \"Пшеница\",\"16\": \"Разнотравье\",\"17\": \"Горох\",\"18\": \"Зерносмесь\",\n",
        "    \"19\": \"Ячмень\",\"20\": \"Шрот соевый\",\"21\": \"Шрот рапсовый\",\"22\": \"Жмых рапсовый\",\"23\": \"Жмых льняной\",\n",
        "    \"24\": \"Барда\",\"25\": \"Шрот подсолнечный\",\"26\": \"Глютен\",\"27\": \"Могар\",\"28\": \"Амарант\",\"29\": \"Сорго\",\n",
        "    \"30\": \"Козлятник\",\"31\": \"Овес\",\"32\": \"Вика + тритикале\",\"33\": \"Рожь + тритикале\",\"34\": \"Эспарцет + костер\",\n",
        "    \"35\": \"Овес + горох\",\"36\": \"Кострец\",\"37\": \"Эспарцет + житняк\",\"38\": \"Тимофеевка\",\n",
        "    \"39\": \"Соя\",\"40\": \"Рапс\",\"41\": \"Свекла\"\n",
        "}\n"
      ],
      "metadata": {
        "id": "h5qhb6oYSdUZ"
      },
      "execution_count": 121,
      "outputs": []
    },
    {
      "cell_type": "markdown",
      "source": [
        "Далее по словам ищем ингредиенты, подходящие категориям 1 - \"травяные сенажи/сено\", 2 - зерновые/концентраты, 3 - масличные/шроты, 4 - жир, 5 - отходы производства, 6 - минеральные добавки и премиксы"
      ],
      "metadata": {
        "id": "aUtqcEfLEcHV"
      }
    },
    {
      "cell_type": "code",
      "source": [
        "def extract_words(row):\n",
        "    text = str(row.get('Ингредиенты', '')).lower()\n",
        "    culture_code = str(row.get('culture', ''))\n",
        "    feed_code = str(row.get('feed_code', ''))\n",
        "\n",
        "    categories = {\n",
        "        1: [\n",
        "            r'люцерн', r'клевер', r'тимофеевк', r'лугов', r'однолетн', r'многолетн', r'разнотрав',\n",
        "            r'сенаж', r'сено', r'тритикале', r'с-ж', r'c-ж', r'судан'\n",
        "        ],\n",
        "        2: [\n",
        "            r'кукуруз', r'пшениц', r'ячмен', r'зерносмес', r'концентрат', r'корнаж',r'к-ж', r'силос',\n",
        "            r'солом', r'зерно', r'комби', r'кк', r'фураж', r'кормосмес', r'с-'\n",
        "        ],\n",
        "        3: [\n",
        "            r'жмых', r'шрот', r'соев', r'рапс', r'льнян', r'подсолнечн', r'оболочк'\n",
        "        ],\n",
        "        4: [\n",
        "            r'жир'\n",
        "        ],\n",
        "        5: [\n",
        "            r'свекл', r'свёкл', r'жом', r'паток', r'пивн', r'дробин', r'рож', r'дрожж'\n",
        "        ],\n",
        "        6: [\n",
        "            r'добавк', r'кальци', r'калия', r'премикс', r'сода', r'соль', r'поташ', r'мел'\n",
        "        ]\n",
        "    }\n",
        "\n",
        "    if culture_code and culture_code in culture_dict:\n",
        "        culture = culture_dict[culture_code].lower()\n",
        "        if re.search(r'люцерн|клевер|тимофеевк|лугов|однолетн|многолетн|разнотрав|эсп|судан|тритик', culture):\n",
        "            return 1\n",
        "        if re.search(r'кукуруз|пшениц|ячмен|зерносмес|концентрат', culture):\n",
        "            return 2\n",
        "        if re.search(r'шрот|жмых|соев|рапс|льн|подсолнеч', culture):\n",
        "            return 3\n",
        "\n",
        "    for cat, patterns in categories.items():\n",
        "        for pat in patterns:\n",
        "            if re.search(pat, text, flags=re.IGNORECASE):\n",
        "                return cat\n",
        "    return None\n"
      ],
      "metadata": {
        "id": "qyHJ0gQXSfA7"
      },
      "execution_count": 122,
      "outputs": []
    },
    {
      "cell_type": "code",
      "source": [
        "recipes_df['category'] = recipes_df.apply(extract_words, axis=1)"
      ],
      "metadata": {
        "id": "WYtRsmxwSik2"
      },
      "execution_count": 123,
      "outputs": []
    },
    {
      "cell_type": "code",
      "source": [
        "for col in ['СВ_%', 'ГП_кг', 'СВ_кг', '%_ГП', '%_СВ']:\n",
        "  recipes_df[col] = recipes_df[col].str.replace(',','.').str.replace('%', '')\n",
        "  recipes_df[col] = recipes_df[col].astype(float)"
      ],
      "metadata": {
        "id": "eKlfEl1zn_Fu"
      },
      "execution_count": 124,
      "outputs": []
    },
    {
      "cell_type": "code",
      "source": [
        "fatty_acids_df.columns"
      ],
      "metadata": {
        "colab": {
          "base_uri": "https://localhost:8080/"
        },
        "id": "V94mmCnPxEW0",
        "outputId": "a9bad608-66dd-4d15-abf4-8e9d4b814f68"
      },
      "execution_count": 125,
      "outputs": [
        {
          "output_type": "execute_result",
          "data": {
            "text/plain": [
              "Index(['Регион', 'Дата', 'Наименование ЖК', 'Количество рационов',\n",
              "       'Лаборатория', 'Рацион', 'Масляная', 'Капроновая', 'Каприловая',\n",
              "       'Каприновая', 'Деценовая', 'Лауриновая', 'Миристиновая',\n",
              "       'Миристолеиновая', 'Пальмитиновая', 'Пальмитолеиновая', 'Стеариновая',\n",
              "       'Олеиновая', 'Линолевая', 'Линоленовая', 'Арахиновая', 'Бегеновая',\n",
              "       'Прочие'],\n",
              "      dtype='object')"
            ]
          },
          "metadata": {},
          "execution_count": 125
        }
      ]
    },
    {
      "cell_type": "code",
      "source": [
        "fatty_acids_df['Бегеновая'] = fatty_acids_df['Бегеновая'].replace('<0,05', '0,025')"
      ],
      "metadata": {
        "id": "UCUm-REOzRo_"
      },
      "execution_count": 126,
      "outputs": []
    },
    {
      "cell_type": "code",
      "source": [
        "for col in ['Масляная', 'Капроновая', 'Каприловая', 'Каприновая', 'Деценовая',\n",
        "       'Лауриновая', 'Миристиновая', 'Миристолеиновая', 'Пальмитиновая',\n",
        "       'Пальмитолеиновая', 'Стеариновая', 'Олеиновая', 'Линолевая',\n",
        "       'Линоленовая', 'Арахиновая', 'Бегеновая']:\n",
        "       fatty_acids_df[col] = fatty_acids_df[col].str.replace(',','.')\n",
        "       fatty_acids_df[col] = fatty_acids_df[col].astype(float)"
      ],
      "metadata": {
        "id": "h9J9K5YdxClh"
      },
      "execution_count": 127,
      "outputs": []
    },
    {
      "cell_type": "code",
      "source": [
        "def aggregate_recipe_data(recipes_df, composition_df):\n",
        "    \"\"\"Агрегирует данные по видам ингредиентов и нутриентам для каждого рациона \"\"\"\n",
        "\n",
        "    category_map = {\n",
        "        1: 'трав_сен',\n",
        "        2: 'конц_зерн',\n",
        "        3: 'масличн',\n",
        "        4: 'жир',\n",
        "        5: 'пром_отх',\n",
        "        6: 'мин_техно'\n",
        "    }\n",
        "\n",
        "    # Суммируем значения %_СВ по рациону и категории\n",
        "    category_agg = (\n",
        "        recipes_df\n",
        "        .groupby(['рацион', 'category'], as_index=False)['%_СВ']\n",
        "        .sum()\n",
        "    )\n",
        "\n",
        "    # Преобразуем в широкую таблицу\n",
        "    category_pivot = (\n",
        "        category_agg\n",
        "        .pivot(index='рацион', columns='category', values='%_СВ')\n",
        "        .fillna(0)\n",
        "        .rename(columns=category_map)\n",
        "    )\n",
        "\n",
        "    # Преобразуем обратно в обычный DataFrame\n",
        "    category_pivot = category_pivot.reset_index()\n",
        "\n",
        "    # Оставляем нужные колонки из второй таблицы\n",
        "    composition_cols = [\n",
        "        'рацион', 'СП', 'Крахмал', 'aNDFom',\n",
        "        'Сахар (ВРУ)', 'НВУ', 'ОЖК', 'K'\n",
        "    ]\n",
        "    composition_subset = composition_df[composition_cols]\n",
        "\n",
        "    # Объединяем по рациону\n",
        "    merged_df = pd.merge(category_pivot, composition_subset, on='рацион', how='left')\n",
        "\n",
        "    return merged_df\n"
      ],
      "metadata": {
        "id": "6_MTpsYuSssv"
      },
      "execution_count": 129,
      "outputs": []
    },
    {
      "cell_type": "code",
      "source": [
        "recipes_aggregated = aggregate_recipe_data(recipes_df,analyses_df)\n",
        "print(f\"Агрегированные рецепты: {recipes_aggregated.shape}\")"
      ],
      "metadata": {
        "colab": {
          "base_uri": "https://localhost:8080/"
        },
        "id": "Cvfy7fmxzsc6",
        "outputId": "e9832584-7de3-483f-f7a2-395a5214d550"
      },
      "execution_count": 130,
      "outputs": [
        {
          "output_type": "stream",
          "name": "stdout",
          "text": [
            "Агрегированные рецепты: (93, 14)\n"
          ]
        }
      ]
    },
    {
      "cell_type": "markdown",
      "source": [
        "Возьмем нутриенты, которые повторяются во всех рационах - настоятельный совет организаторов (рационов 94, я брала те нутриенты, которые встречаются 92 и более раз)\n"
      ],
      "metadata": {
        "id": "QzQAkxTCxvYt"
      }
    },
    {
      "cell_type": "markdown",
      "source": [
        "Добавляем рационы \"50 на 50\" там, где 2 рациона и один анализ молока"
      ],
      "metadata": {
        "id": "Z-NugfAnLP2m"
      }
    },
    {
      "cell_type": "code",
      "source": [
        "def clean_name(name):\n",
        "    # убираем скобки и содержимое, лишние пробелы и спецсимволы\n",
        "    name = re.sub(r'\\(.*?\\)', '', str(name))\n",
        "    name = re.sub(r'[^а-яА-Яa-zA-Z0-9_\\.\\s-]', '', name)\n",
        "    name = re.sub(r'\\s+', ' ', name)\n",
        "    return name.strip().lower()"
      ],
      "metadata": {
        "id": "0MQWwb6u-Xc3"
      },
      "execution_count": 131,
      "outputs": []
    },
    {
      "cell_type": "code",
      "source": [
        "from difflib import get_close_matches\n",
        "\n",
        "# чистим имена колонок\n",
        "fatty_acids_df.columns = [c.strip().lower() for c in fatty_acids_df.columns]\n",
        "recipes_aggregated.columns = [c.strip().lower() for c in recipes_aggregated.columns]\n",
        "\n",
        "\n",
        "def add_mixed_rations_fuzzy(aggregated_df, fatty_df):\n",
        "    aggregated = aggregated_df.copy()\n",
        "    aggregated['рацион_clean'] = aggregated['рацион'].apply(clean_name)\n",
        "    agg_names = aggregated['рацион_clean'].tolist()\n",
        "\n",
        "    new_rows = []\n",
        "    warnings = []\n",
        "\n",
        "    numeric_cols = aggregated.select_dtypes(include=np.number).columns.tolist()\n",
        "\n",
        "    for _, row in fatty_df.iterrows():\n",
        "        rname = str(row['рацион'])\n",
        "        if '+' in rname:\n",
        "            parts = [p.strip() for p in rname.split('+') if p.strip()]\n",
        "            clean_parts = [clean_name(p) for p in parts[:2]]\n",
        "            matched_rows = []\n",
        "\n",
        "            for p in clean_parts:\n",
        "                match = get_close_matches(p, agg_names, n=1, cutoff=0.5)\n",
        "                if match:\n",
        "                    matched_rows.append(aggregated[aggregated['рацион_clean'] == match[0]].iloc[0])\n",
        "                else:\n",
        "                    warnings.append(f'Рацион не найден: \"{p}\"')\n",
        "\n",
        "            if len(matched_rows) == 2:\n",
        "                # усредняем только числовые колонки\n",
        "                mix_numeric = (matched_rows[0][numeric_cols] + matched_rows[1][numeric_cols]) / 2\n",
        "                mix = matched_rows[0].copy()\n",
        "                mix[numeric_cols] = mix_numeric\n",
        "                mix['рацион'] = \"_\".join([p.replace(' ', '_') for p in parts[:2]]) + \"_mix\"\n",
        "                new_rows.append(mix)\n",
        "        else:\n",
        "            continue\n",
        "\n",
        "    if new_rows:\n",
        "        mix_df = pd.DataFrame(new_rows)\n",
        "        aggregated = pd.concat([aggregated, mix_df], ignore_index=True)\n",
        "\n",
        "    aggregated = aggregated.drop(columns=['рацион_clean'], errors='ignore')\n",
        "    return aggregated, warnings\n",
        "\n",
        "\n"
      ],
      "metadata": {
        "id": "AhFUKmHKLOdh"
      },
      "execution_count": 132,
      "outputs": []
    },
    {
      "cell_type": "code",
      "source": [
        "# добавили микс-рационы\n",
        "recipes_aggregated, warnings = add_mixed_rations_fuzzy(recipes_aggregated, fatty_acids_df)\n",
        "print(recipes_aggregated.tail())\n",
        "for w in warnings:\n",
        "    print(w)"
      ],
      "metadata": {
        "colab": {
          "base_uri": "https://localhost:8080/"
        },
        "id": "o0FOd_qTLluC",
        "outputId": "72ca790a-9ed5-4e92-a5d2-0a283eee4051"
      },
      "execution_count": 133,
      "outputs": [
        {
          "output_type": "stream",
          "name": "stdout",
          "text": [
            "                                                                                    рацион  \\\n",
            "95    ЖК_Бобров-2_Д1_(КК-11)_21.05.25(1)_ЭНАВ_ЖК_Бобров-2_Д1_(КК-11)_21.05.25_(2)_ЭНАВ_mix   \n",
            "96  Отчет_Д1_Гусево__Уланово_18.06.25_(2)_КНЗ_Отчет_Д1_Гусево_Уланово_18.06.25_(1)_КНЗ_mix   \n",
            "97  Отчет_Д1_Гусево__Уланово_18.06.25_(2)_КНЗ_Отчет_Д1_Гусево_Уланово_18.06.25_(1)_КНЗ_mix   \n",
            "98                Отчет_Д1_Л=1_Гусево_11.07.25_(2)_КНЗ_Отчет_Д1_Гусево__(11.07.25)_КНЗ_mix   \n",
            "99                Отчет_Д1_Л=1_Гусево_11.07.25_(2)_КНЗ_Отчет_Д1_Гусево__(11.07.25)_КНЗ_mix   \n",
            "\n",
            "    трав_сен  конц_зерн  масличн  жир  пром_отх  мин_техно       сп   крахмал  \\\n",
            "95    14.040     57.820   17.680  0.0     10.46        0.0  16.6600  25.81000   \n",
            "96    14.135     57.355   19.435  1.4      7.68        0.0  17.2328  28.68015   \n",
            "97    14.135     57.355   19.435  1.4      7.68        0.0  17.2328  28.68015   \n",
            "98    13.300     57.840   19.785  1.4      7.68        0.0  17.0101  28.44005   \n",
            "99    13.300     57.840   19.785  1.4      7.68        0.0  17.0101  28.44005   \n",
            "\n",
            "      andfom  сахар (вру)      нву      ожк        k  \n",
            "95  27.20500      7.64500  43.6950  3.59500  1.55000  \n",
            "96  15.56660      6.01610  44.2564  3.81990  1.41710  \n",
            "97  15.56660      6.01610  44.2564  3.81990  1.41710  \n",
            "98  14.59025      6.60905  45.4734  3.83275  1.44295  \n",
            "99  14.59025      6.60905  45.4734  3.83275  1.44295  \n"
          ]
        }
      ]
    },
    {
      "cell_type": "markdown",
      "source": [
        "Создаем датасет для обучения"
      ],
      "metadata": {
        "id": "BAfO4j3zbSsV"
      }
    },
    {
      "cell_type": "code",
      "source": [
        "def create_training_dataset(recipes_aggregated, fatty_acids_df, fillna=False, fuzzy_cutoff=0.5):\n",
        "    agg = recipes_aggregated.copy()\n",
        "    fat = fatty_acids_df.copy()\n",
        "\n",
        "    agg.columns = [c.strip().lower() for c in agg.columns]\n",
        "    fat.columns = [c.strip().lower() for c in fat.columns]\n",
        "\n",
        "    if 'рацион' not in agg.columns or 'рацион' not in fat.columns:\n",
        "        raise KeyError('Ожидается колонка \"рацион\" в обоих датафреймах')\n",
        "\n",
        "    agg['рацион_clean'] = agg['рацион'].astype(str).apply(clean_name)\n",
        "    fat['рацион_raw'] = fat['рацион'].astype(str)\n",
        "    fat['рацион_clean'] = fat['рацион_raw'].apply(clean_name)\n",
        "    fat['наименование жк'] = fat.get('наименование жк', fat.get('наименование_жк', pd.Series(['']*len(fat))))\n",
        "\n",
        "    agg_names = agg['рацион_clean'].tolist()\n",
        "\n",
        "    possible_targets = ['масляная','капроновая','каприловая','каприновая','деценовая',\n",
        "                        'лауриновая','миристиновая','миристолеиновая','пальмитиновая',\n",
        "                        'пальмитолеиновая','стеариновая','олеиновая','линолевая',\n",
        "                        'линоленовая','арахиновая']\n",
        "    targets = [t for t in possible_targets if t in fat.columns]\n",
        "\n",
        "    numeric_feats = agg.select_dtypes(include=[np.number]).columns.tolist()\n",
        "\n",
        "    rows = []\n",
        "    warnings = []\n",
        "\n",
        "    for _, frow in fat.iterrows():\n",
        "        raw_name = frow['рацион_raw']\n",
        "        clean = frow['рацион_clean']\n",
        "        qty = frow.get('количество рационов', None)\n",
        "        try:\n",
        "            qty = int(qty) if not pd.isna(qty) else (2 if '+' in raw_name else 1)\n",
        "        except:\n",
        "            qty = (2 if '+' in raw_name else 1)\n",
        "\n",
        "        if '+' in raw_name or qty == 2:\n",
        "            parts = [p.strip() for p in raw_name.split('+') if p.strip()]\n",
        "            if len(parts) < 2:\n",
        "                parts = re.split(r'\\+|/', raw_name)\n",
        "                parts = [p.strip() for p in parts if p.strip()]\n",
        "            parts = parts[:2]\n",
        "            found = []\n",
        "            for p in parts:\n",
        "                p_clean = clean_name(p)\n",
        "                if p_clean in agg_names:\n",
        "                    found.append(agg.loc[agg['рацион_clean'] == p_clean].iloc[0])\n",
        "                else:\n",
        "                    match = get_close_matches(p_clean, agg_names, n=1, cutoff=fuzzy_cutoff)\n",
        "                    if match:\n",
        "                        found.append(agg.loc[agg['рацион_clean'] == match[0]].iloc[0])\n",
        "                    else:\n",
        "                        warnings.append(f'Не найден рацион для части \"{p}\" из \"{raw_name}\"')\n",
        "            if len(found) == 2:\n",
        "                f0 = found[0]\n",
        "                f1 = found[1]\n",
        "                mixed_numeric = (f0[numeric_feats].astype(float).fillna(0) + f1[numeric_feats].astype(float).fillna(0)) / 2\n",
        "                base = f0.copy()\n",
        "                base[numeric_feats] = mixed_numeric\n",
        "                base['рацион'] = f\"{clean_name(parts[0])}_{clean_name(parts[1])}_mix\"\n",
        "                record = {c: base[c] for c in numeric_feats}\n",
        "                for t in targets:\n",
        "                    record[t] = frow.get(t, np.nan)\n",
        "                record['рацион_source'] = raw_name\n",
        "                record['наименование_жк'] = frow.get('наименование жк', frow.get('наименование_жк', ''))\n",
        "                rows.append(record)\n",
        "            else:\n",
        "                warnings.append(f'Не удалось создать mix для \"{raw_name}\"')\n",
        "        else:\n",
        "            match_name = None\n",
        "            if clean in agg_names:\n",
        "                match_name = clean\n",
        "            else:\n",
        "                match = get_close_matches(clean, agg_names, n=1, cutoff=fuzzy_cutoff)\n",
        "                if match:\n",
        "                    match_name = match[0]\n",
        "            if match_name:\n",
        "                source = agg.loc[agg['рацион_clean'] == match_name].iloc[0]\n",
        "                record = {c: float(source[c]) if c in numeric_feats else source[c] for c in numeric_feats}\n",
        "                for t in targets:\n",
        "                    record[t] = frow.get(t, np.nan)\n",
        "                record['рацион_source'] = raw_name\n",
        "                record['наименование_жк'] = frow.get('наименование жк', frow.get('наименование_жк', ''))\n",
        "                rows.append(record)\n",
        "            else:\n",
        "                warnings.append(f'Рацион не найден: \"{raw_name}\"')\n",
        "\n",
        "    if not rows:\n",
        "        training_df = pd.DataFrame()\n",
        "    else:\n",
        "        training_df = pd.DataFrame(rows)\n",
        "        if fillna:\n",
        "            training_df = training_df.fillna(0)\n",
        "\n",
        "    return training_df, warnings\n"
      ],
      "metadata": {
        "id": "bgW-Ov0APG0X"
      },
      "execution_count": 135,
      "outputs": []
    },
    {
      "cell_type": "code",
      "source": [],
      "metadata": {
        "id": "JuxI1UYDmd7m"
      },
      "execution_count": null,
      "outputs": []
    },
    {
      "cell_type": "markdown",
      "source": [
        "Проверим гипотезу о том, что странные данные -  из альтернативных лабораторий (частично подтвердилась, но есть нюансы)"
      ],
      "metadata": {
        "id": "a5JR6YQJmhNk"
      }
    },
    {
      "cell_type": "code",
      "source": [
        "training_df['лаборатория'] = fatty_acids_df['лаборатория']"
      ],
      "metadata": {
        "id": "qaEgfEeWmnHb"
      },
      "execution_count": 179,
      "outputs": []
    },
    {
      "cell_type": "code",
      "source": [
        "import pandas as pd\n",
        "import numpy as np\n",
        "import matplotlib.pyplot as plt\n",
        "from pathlib import Path\n",
        "\n",
        "nutrient_cols = ['трав_сен', 'конц_зерн', 'масличн', 'жир', 'пром_отх', 'мин_техно',\n",
        " 'сп', 'крахмал', 'andfom', 'сахар (вру)', 'нву', 'ожк', 'k']\n",
        "\n",
        "acid_cols = ['масляная', 'капроновая', 'каприловая', 'каприновая', 'деценовая', 'лауриновая',\n",
        "       'миристиновая', 'миристолеиновая', 'пальмитиновая', 'пальмитолеиновая',\n",
        "       'стеариновая', 'олеиновая', 'линолевая', 'линоленовая', 'арахиновая']\n",
        "\n",
        "try:\n",
        "    df = training_df.copy()\n",
        "except NameError:\n",
        "    print(\"Внимание: training_df не найден. Будет сгенерирован тестовый DataFrame.\")\n",
        "    n = 100\n",
        "    rng = np.random.default_rng(42)\n",
        "    df = pd.DataFrame(rng.normal(size=(n, len(nutrient_cols + acid_cols))),\n",
        "                      columns=nutrient_cols + acid_cols)\n",
        "    df[\"лаборатория\"] = rng.choice([\"A\", \"B\", \"C\"], size=n)\n",
        "\n",
        "df = df[[c for c in nutrient_cols + acid_cols + [\"лаборатория\"] if c in df.columns]].copy()\n",
        "\n",
        "corr_matrix = df[nutrient_cols + acid_cols].corr()\n",
        "acid_vs_nutrient_corr = corr_matrix.loc[acid_cols, nutrient_cols]\n",
        "\n",
        "plots_dir = Path('LAB_plots_acids_vs_nutrients')\n",
        "plots_dir.mkdir(parents=True, exist_ok=True)\n",
        "\n",
        "labs = df[\"лаборатория\"].unique() if \"лаборатория\" in df.columns else [\"All\"]\n",
        "colors = plt.cm.tab10(np.linspace(0, 1, len(labs)))\n",
        "\n",
        "for acid in acid_cols:\n",
        "    for nut in nutrient_cols:\n",
        "        if acid in df.columns and nut in df.columns:\n",
        "            plt.figure(figsize=(5, 4))\n",
        "            if \"лаборатория\" in df.columns:\n",
        "                for lab, color in zip(labs, colors):\n",
        "                    subset = df[df[\"лаборатория\"] == lab]\n",
        "                    plt.scatter(subset[nut], subset[acid], alpha=0.7, label=lab, color=color)\n",
        "                plt.legend(title=\"лаборатория\", fontsize=8)\n",
        "            else:\n",
        "                plt.scatter(df[nut], df[acid], alpha=0.7)\n",
        "            plt.xlabel(nut)\n",
        "            plt.ylabel(acid)\n",
        "            plt.title(f\"{acid} vs {nut}\")\n",
        "            plt.tight_layout()\n",
        "            plt.savefig(plots_dir / f\"{acid}_vs_{nut}.png\", dpi=150)\n",
        "            plt.close()\n",
        "\n",
        "print(f\"Графики сохранены в папке: {plots_dir.resolve()}\")\n"
      ],
      "metadata": {
        "colab": {
          "base_uri": "https://localhost:8080/"
        },
        "id": "BJJ8EAE8mz-2",
        "outputId": "1581dec9-7607-4d4b-8802-385a17a3c4fe"
      },
      "execution_count": 180,
      "outputs": [
        {
          "output_type": "stream",
          "name": "stdout",
          "text": [
            "Корреляции кислот с нутриентами:\n",
            "                  трав_сен  конц_зерн  масличн    жир  пром_отх  мин_техно  \\\n",
            "масляная            -0.044      0.014    0.090 -0.167    -0.042      0.149   \n",
            "капроновая          -0.038      0.113   -0.144 -0.211     0.212     -0.095   \n",
            "каприловая          -0.055      0.105   -0.112 -0.133     0.300     -0.304   \n",
            "каприновая          -0.027      0.078    0.011 -0.064     0.255     -0.329   \n",
            "деценовая            0.027     -0.001   -0.120 -0.230     0.258     -0.131   \n",
            "лауриновая          -0.003      0.041   -0.054 -0.055     0.314     -0.244   \n",
            "миристиновая         0.083      0.063   -0.171 -0.107     0.188     -0.349   \n",
            "миристолеиновая      0.151      0.004   -0.220 -0.115     0.260     -0.137   \n",
            "пальмитиновая        0.099     -0.069   -0.133 -0.024     0.334     -0.082   \n",
            "пальмитолеиновая     0.077     -0.183    0.010  0.094     0.097      0.579   \n",
            "стеариновая         -0.080      0.037    0.152 -0.019    -0.341     -0.020   \n",
            "олеиновая           -0.045     -0.016    0.116  0.060    -0.333      0.281   \n",
            "линолевая           -0.273      0.091    0.208  0.337     0.069      0.018   \n",
            "линоленовая          0.423      0.052   -0.411 -0.341    -0.112     -0.437   \n",
            "арахиновая           0.222     -0.008   -0.046 -0.187    -0.329     -0.423   \n",
            "\n",
            "                     сп  крахмал  andfom  сахар (вру)    нву    ожк      k  \n",
            "масляная         -0.052   -0.521   0.304        0.292 -0.233  0.054  0.269  \n",
            "капроновая       -0.082   -0.019   0.047       -0.000  0.022  0.006  0.052  \n",
            "каприловая        0.042    0.447  -0.198       -0.092  0.344 -0.014  0.046  \n",
            "каприновая        0.149    0.586  -0.257        0.014  0.507 -0.039  0.088  \n",
            "деценовая        -0.173    0.270  -0.010        0.135  0.188 -0.259  0.110  \n",
            "лауриновая        0.108    0.581  -0.276        0.019  0.476 -0.103  0.077  \n",
            "миристиновая     -0.024    0.540  -0.215       -0.140  0.369 -0.152 -0.028  \n",
            "миристолеиновая  -0.149    0.432  -0.191       -0.042  0.273 -0.207 -0.027  \n",
            "пальмитиновая     0.016    0.253  -0.115        0.110  0.238  0.073  0.157  \n",
            "пальмитолеиновая -0.007   -0.350   0.084        0.276 -0.206 -0.133  0.085  \n",
            "стеариновая      -0.040   -0.397   0.242       -0.079 -0.328  0.072 -0.061  \n",
            "олеиновая        -0.070   -0.506   0.223       -0.002 -0.425 -0.014 -0.090  \n",
            "линолевая         0.373    0.540  -0.470       -0.248  0.347  0.166 -0.287  \n",
            "линоленовая      -0.096   -0.002   0.157       -0.292 -0.103 -0.224  0.055  \n",
            "арахиновая       -0.257   -0.130   0.230       -0.199 -0.212 -0.062 -0.122  \n",
            "Графики сохранены в папке: /content/LAB_plots_acids_vs_nutrients\n"
          ]
        }
      ]
    },
    {
      "cell_type": "code",
      "source": [
        "training_df, warnings = create_training_dataset(recipes_aggregated, fatty_acids_df)\n",
        "print(\"Строк в training_df:\", len(training_df))\n",
        "for w in warnings:\n",
        "    print(w)\n"
      ],
      "metadata": {
        "colab": {
          "base_uri": "https://localhost:8080/"
        },
        "id": "_p0feSimPfMV",
        "outputId": "e82f4ac2-c4e0-4a30-d54a-07979ccc160a"
      },
      "execution_count": 145,
      "outputs": [
        {
          "output_type": "stream",
          "name": "stdout",
          "text": [
            "Строк в training_df: 106\n"
          ]
        }
      ]
    },
    {
      "cell_type": "code",
      "source": [
        " training_df.columns"
      ],
      "metadata": {
        "colab": {
          "base_uri": "https://localhost:8080/"
        },
        "id": "BxRnigVlChcZ",
        "outputId": "913841ba-bf52-44f6-8e07-cb8ac15e65a6"
      },
      "execution_count": 146,
      "outputs": [
        {
          "output_type": "execute_result",
          "data": {
            "text/plain": [
              "Index(['трав_сен', 'конц_зерн', 'масличн', 'жир', 'пром_отх', 'мин_техно',\n",
              "       'сп', 'крахмал', 'andfom', 'сахар (вру)', 'нву', 'ожк', 'k', 'масляная',\n",
              "       'капроновая', 'каприловая', 'каприновая', 'деценовая', 'лауриновая',\n",
              "       'миристиновая', 'миристолеиновая', 'пальмитиновая', 'пальмитолеиновая',\n",
              "       'стеариновая', 'олеиновая', 'линолевая', 'линоленовая', 'арахиновая',\n",
              "       'рацион_source', 'наименование_жк'],\n",
              "      dtype='object')"
            ]
          },
          "metadata": {},
          "execution_count": 146
        }
      ]
    },
    {
      "cell_type": "code",
      "source": [
        "training_df.info()"
      ],
      "metadata": {
        "colab": {
          "base_uri": "https://localhost:8080/"
        },
        "id": "xt6ikkGBPgin",
        "outputId": "f30a2b88-d790-41b9-eed2-0a853ab3ac72"
      },
      "execution_count": 148,
      "outputs": [
        {
          "output_type": "stream",
          "name": "stdout",
          "text": [
            "<class 'pandas.core.frame.DataFrame'>\n",
            "RangeIndex: 106 entries, 0 to 105\n",
            "Data columns (total 30 columns):\n",
            " #   Column            Non-Null Count  Dtype  \n",
            "---  ------            --------------  -----  \n",
            " 0   трав_сен          106 non-null    float64\n",
            " 1   конц_зерн         106 non-null    float64\n",
            " 2   масличн           106 non-null    float64\n",
            " 3   жир               106 non-null    float64\n",
            " 4   пром_отх          106 non-null    float64\n",
            " 5   мин_техно         106 non-null    float64\n",
            " 6   сп                106 non-null    float64\n",
            " 7   крахмал           106 non-null    float64\n",
            " 8   andfom            106 non-null    float64\n",
            " 9   сахар (вру)       106 non-null    float64\n",
            " 10  нву               106 non-null    float64\n",
            " 11  ожк               104 non-null    float64\n",
            " 12  k                 106 non-null    float64\n",
            " 13  масляная          106 non-null    float64\n",
            " 14  капроновая        106 non-null    float64\n",
            " 15  каприловая        106 non-null    float64\n",
            " 16  каприновая        106 non-null    float64\n",
            " 17  деценовая         89 non-null     float64\n",
            " 18  лауриновая        106 non-null    float64\n",
            " 19  миристиновая      106 non-null    float64\n",
            " 20  миристолеиновая   106 non-null    float64\n",
            " 21  пальмитиновая     106 non-null    float64\n",
            " 22  пальмитолеиновая  106 non-null    float64\n",
            " 23  стеариновая       106 non-null    float64\n",
            " 24  олеиновая         106 non-null    float64\n",
            " 25  линолевая         106 non-null    float64\n",
            " 26  линоленовая       104 non-null    float64\n",
            " 27  арахиновая        106 non-null    float64\n",
            " 28  рацион_source     106 non-null    object \n",
            " 29  наименование_жк   106 non-null    object \n",
            "dtypes: float64(28), object(2)\n",
            "memory usage: 25.0+ KB\n"
          ]
        }
      ]
    },
    {
      "cell_type": "code",
      "source": [],
      "metadata": {
        "id": "rn3My57dCab1"
      },
      "execution_count": 138,
      "outputs": []
    },
    {
      "cell_type": "code",
      "source": [
        "# @title\n",
        "res = train_ridge_onehot(training_df)\n",
        "print(\"строк всего:\", res['rows_initial'])\n",
        "print(\"использовано для обучения:\", res['rows_used'])\n",
        "print(\"удалено из-за NaN в таргетах:\", res['rows_dropped_due_na_targets'])\n",
        "import json\n",
        "print(json.dumps(res['metrics_cv'], ensure_ascii=False, indent=2))\n"
      ],
      "metadata": {
        "id": "LQhX3Yc2HlLy",
        "cellView": "form"
      },
      "execution_count": null,
      "outputs": []
    },
    {
      "cell_type": "code",
      "source": [
        "# @title\n",
        "import numpy as np\n",
        "import pandas as pd\n",
        "\n",
        "def to_numeric(val):\n",
        "    import re\n",
        "    if pd.isna(val): return np.nan\n",
        "    s = str(val).strip().replace(',', '.')\n",
        "    m = re.match(r'<\\s*([\\d.]+)', s)\n",
        "    if m:\n",
        "        return float(m.group(1)) / 2.0\n",
        "    try:\n",
        "        return float(s)\n",
        "    except:\n",
        "        return np.nan\n",
        "\n",
        "targets = [t for t in training_df.columns if t in ['масляная','капроновая','каприловая','каприновая','деценовая',\n",
        "               'лауриновая','миристиновая','миристолеиновая','пальмитиновая',\n",
        "               'пальмитолеиновая','стеариновая','олеиновая','линолевая',\n",
        "               'линоленовая','арахиновая','бегеновая','прочие']]  # твой список\n",
        "for t in targets:\n",
        "    training_df[t] = training_df[t].apply(to_numeric)\n",
        "\n",
        "training_df[targets].describe().T\n"
      ],
      "metadata": {
        "colab": {
          "base_uri": "https://localhost:8080/",
          "height": 551
        },
        "id": "OxYad7oGggfy",
        "outputId": "c2f72763-717a-4a7b-947b-a4264a19979b",
        "cellView": "form",
        "collapsed": true
      },
      "execution_count": null,
      "outputs": [
        {
          "output_type": "execute_result",
          "data": {
            "text/plain": [
              "                  count       mean       std    min      25%     50%      75%  \\\n",
              "масляная          106.0   3.189151  0.362471   2.30   3.0175   3.230   3.3675   \n",
              "капроновая        106.0   2.134245  0.178901   1.79   2.0300   2.110   2.2100   \n",
              "каприловая        106.0   1.308019  0.107148   0.89   1.2600   1.310   1.3700   \n",
              "каприновая        106.0   3.203491  0.380176   1.69   3.1000   3.280   3.4550   \n",
              "деценовая          89.0   0.247528  0.041868   0.08   0.2300   0.250   0.2700   \n",
              "лауриновая        106.0   3.915189  0.528392   1.74   3.7825   4.000   4.2975   \n",
              "миристиновая      106.0  10.976132  0.999143   6.20  10.7150  11.165  11.5475   \n",
              "миристолеиновая   106.0   1.071509  0.166995   0.36   1.0125   1.100   1.1800   \n",
              "пальмитиновая     106.0  32.058774  2.105793  23.85  31.1750  32.190  33.3100   \n",
              "пальмитолеиновая  106.0   2.218962  0.217654   1.74   2.0700   2.215   2.4100   \n",
              "стеариновая       106.0   8.577642  1.371970   6.30   7.7425   8.350   9.1350   \n",
              "олеиновая         106.0  23.076792  2.599184  19.07  21.4425  22.740  23.7250   \n",
              "линолевая         106.0   2.618491  0.351727   1.71   2.4300   2.560   2.7825   \n",
              "линоленовая       104.0   0.405769  0.059524   0.28   0.3600   0.400   0.4400   \n",
              "арахиновая        106.0   0.123019  0.021344   0.06   0.1100   0.120   0.1375   \n",
              "бегеновая         106.0   0.033962  0.023902   0.01   0.0250   0.025   0.0250   \n",
              "\n",
              "                    max  \n",
              "масляная           4.43  \n",
              "капроновая         2.90  \n",
              "каприловая         1.64  \n",
              "каприновая         3.86  \n",
              "деценовая          0.34  \n",
              "лауриновая         4.71  \n",
              "миристиновая      12.61  \n",
              "миристолеиновая    1.32  \n",
              "пальмитиновая     37.51  \n",
              "пальмитолеиновая   2.71  \n",
              "стеариновая       14.55  \n",
              "олеиновая         34.60  \n",
              "линолевая          3.90  \n",
              "линоленовая        0.65  \n",
              "арахиновая         0.18  \n",
              "бегеновая          0.10  "
            ],
            "text/html": [
              "\n",
              "  <div id=\"df-25ef4698-7c46-466c-b052-f9bd9cd25edf\" class=\"colab-df-container\">\n",
              "    <div>\n",
              "<style scoped>\n",
              "    .dataframe tbody tr th:only-of-type {\n",
              "        vertical-align: middle;\n",
              "    }\n",
              "\n",
              "    .dataframe tbody tr th {\n",
              "        vertical-align: top;\n",
              "    }\n",
              "\n",
              "    .dataframe thead th {\n",
              "        text-align: right;\n",
              "    }\n",
              "</style>\n",
              "<table border=\"1\" class=\"dataframe\">\n",
              "  <thead>\n",
              "    <tr style=\"text-align: right;\">\n",
              "      <th></th>\n",
              "      <th>count</th>\n",
              "      <th>mean</th>\n",
              "      <th>std</th>\n",
              "      <th>min</th>\n",
              "      <th>25%</th>\n",
              "      <th>50%</th>\n",
              "      <th>75%</th>\n",
              "      <th>max</th>\n",
              "    </tr>\n",
              "  </thead>\n",
              "  <tbody>\n",
              "    <tr>\n",
              "      <th>масляная</th>\n",
              "      <td>106.0</td>\n",
              "      <td>3.189151</td>\n",
              "      <td>0.362471</td>\n",
              "      <td>2.30</td>\n",
              "      <td>3.0175</td>\n",
              "      <td>3.230</td>\n",
              "      <td>3.3675</td>\n",
              "      <td>4.43</td>\n",
              "    </tr>\n",
              "    <tr>\n",
              "      <th>капроновая</th>\n",
              "      <td>106.0</td>\n",
              "      <td>2.134245</td>\n",
              "      <td>0.178901</td>\n",
              "      <td>1.79</td>\n",
              "      <td>2.0300</td>\n",
              "      <td>2.110</td>\n",
              "      <td>2.2100</td>\n",
              "      <td>2.90</td>\n",
              "    </tr>\n",
              "    <tr>\n",
              "      <th>каприловая</th>\n",
              "      <td>106.0</td>\n",
              "      <td>1.308019</td>\n",
              "      <td>0.107148</td>\n",
              "      <td>0.89</td>\n",
              "      <td>1.2600</td>\n",
              "      <td>1.310</td>\n",
              "      <td>1.3700</td>\n",
              "      <td>1.64</td>\n",
              "    </tr>\n",
              "    <tr>\n",
              "      <th>каприновая</th>\n",
              "      <td>106.0</td>\n",
              "      <td>3.203491</td>\n",
              "      <td>0.380176</td>\n",
              "      <td>1.69</td>\n",
              "      <td>3.1000</td>\n",
              "      <td>3.280</td>\n",
              "      <td>3.4550</td>\n",
              "      <td>3.86</td>\n",
              "    </tr>\n",
              "    <tr>\n",
              "      <th>деценовая</th>\n",
              "      <td>89.0</td>\n",
              "      <td>0.247528</td>\n",
              "      <td>0.041868</td>\n",
              "      <td>0.08</td>\n",
              "      <td>0.2300</td>\n",
              "      <td>0.250</td>\n",
              "      <td>0.2700</td>\n",
              "      <td>0.34</td>\n",
              "    </tr>\n",
              "    <tr>\n",
              "      <th>лауриновая</th>\n",
              "      <td>106.0</td>\n",
              "      <td>3.915189</td>\n",
              "      <td>0.528392</td>\n",
              "      <td>1.74</td>\n",
              "      <td>3.7825</td>\n",
              "      <td>4.000</td>\n",
              "      <td>4.2975</td>\n",
              "      <td>4.71</td>\n",
              "    </tr>\n",
              "    <tr>\n",
              "      <th>миристиновая</th>\n",
              "      <td>106.0</td>\n",
              "      <td>10.976132</td>\n",
              "      <td>0.999143</td>\n",
              "      <td>6.20</td>\n",
              "      <td>10.7150</td>\n",
              "      <td>11.165</td>\n",
              "      <td>11.5475</td>\n",
              "      <td>12.61</td>\n",
              "    </tr>\n",
              "    <tr>\n",
              "      <th>миристолеиновая</th>\n",
              "      <td>106.0</td>\n",
              "      <td>1.071509</td>\n",
              "      <td>0.166995</td>\n",
              "      <td>0.36</td>\n",
              "      <td>1.0125</td>\n",
              "      <td>1.100</td>\n",
              "      <td>1.1800</td>\n",
              "      <td>1.32</td>\n",
              "    </tr>\n",
              "    <tr>\n",
              "      <th>пальмитиновая</th>\n",
              "      <td>106.0</td>\n",
              "      <td>32.058774</td>\n",
              "      <td>2.105793</td>\n",
              "      <td>23.85</td>\n",
              "      <td>31.1750</td>\n",
              "      <td>32.190</td>\n",
              "      <td>33.3100</td>\n",
              "      <td>37.51</td>\n",
              "    </tr>\n",
              "    <tr>\n",
              "      <th>пальмитолеиновая</th>\n",
              "      <td>106.0</td>\n",
              "      <td>2.218962</td>\n",
              "      <td>0.217654</td>\n",
              "      <td>1.74</td>\n",
              "      <td>2.0700</td>\n",
              "      <td>2.215</td>\n",
              "      <td>2.4100</td>\n",
              "      <td>2.71</td>\n",
              "    </tr>\n",
              "    <tr>\n",
              "      <th>стеариновая</th>\n",
              "      <td>106.0</td>\n",
              "      <td>8.577642</td>\n",
              "      <td>1.371970</td>\n",
              "      <td>6.30</td>\n",
              "      <td>7.7425</td>\n",
              "      <td>8.350</td>\n",
              "      <td>9.1350</td>\n",
              "      <td>14.55</td>\n",
              "    </tr>\n",
              "    <tr>\n",
              "      <th>олеиновая</th>\n",
              "      <td>106.0</td>\n",
              "      <td>23.076792</td>\n",
              "      <td>2.599184</td>\n",
              "      <td>19.07</td>\n",
              "      <td>21.4425</td>\n",
              "      <td>22.740</td>\n",
              "      <td>23.7250</td>\n",
              "      <td>34.60</td>\n",
              "    </tr>\n",
              "    <tr>\n",
              "      <th>линолевая</th>\n",
              "      <td>106.0</td>\n",
              "      <td>2.618491</td>\n",
              "      <td>0.351727</td>\n",
              "      <td>1.71</td>\n",
              "      <td>2.4300</td>\n",
              "      <td>2.560</td>\n",
              "      <td>2.7825</td>\n",
              "      <td>3.90</td>\n",
              "    </tr>\n",
              "    <tr>\n",
              "      <th>линоленовая</th>\n",
              "      <td>104.0</td>\n",
              "      <td>0.405769</td>\n",
              "      <td>0.059524</td>\n",
              "      <td>0.28</td>\n",
              "      <td>0.3600</td>\n",
              "      <td>0.400</td>\n",
              "      <td>0.4400</td>\n",
              "      <td>0.65</td>\n",
              "    </tr>\n",
              "    <tr>\n",
              "      <th>арахиновая</th>\n",
              "      <td>106.0</td>\n",
              "      <td>0.123019</td>\n",
              "      <td>0.021344</td>\n",
              "      <td>0.06</td>\n",
              "      <td>0.1100</td>\n",
              "      <td>0.120</td>\n",
              "      <td>0.1375</td>\n",
              "      <td>0.18</td>\n",
              "    </tr>\n",
              "    <tr>\n",
              "      <th>бегеновая</th>\n",
              "      <td>106.0</td>\n",
              "      <td>0.033962</td>\n",
              "      <td>0.023902</td>\n",
              "      <td>0.01</td>\n",
              "      <td>0.0250</td>\n",
              "      <td>0.025</td>\n",
              "      <td>0.0250</td>\n",
              "      <td>0.10</td>\n",
              "    </tr>\n",
              "  </tbody>\n",
              "</table>\n",
              "</div>\n",
              "    <div class=\"colab-df-buttons\">\n",
              "\n",
              "  <div class=\"colab-df-container\">\n",
              "    <button class=\"colab-df-convert\" onclick=\"convertToInteractive('df-25ef4698-7c46-466c-b052-f9bd9cd25edf')\"\n",
              "            title=\"Convert this dataframe to an interactive table.\"\n",
              "            style=\"display:none;\">\n",
              "\n",
              "  <svg xmlns=\"http://www.w3.org/2000/svg\" height=\"24px\" viewBox=\"0 -960 960 960\">\n",
              "    <path d=\"M120-120v-720h720v720H120Zm60-500h600v-160H180v160Zm220 220h160v-160H400v160Zm0 220h160v-160H400v160ZM180-400h160v-160H180v160Zm440 0h160v-160H620v160ZM180-180h160v-160H180v160Zm440 0h160v-160H620v160Z\"/>\n",
              "  </svg>\n",
              "    </button>\n",
              "\n",
              "  <style>\n",
              "    .colab-df-container {\n",
              "      display:flex;\n",
              "      gap: 12px;\n",
              "    }\n",
              "\n",
              "    .colab-df-convert {\n",
              "      background-color: #E8F0FE;\n",
              "      border: none;\n",
              "      border-radius: 50%;\n",
              "      cursor: pointer;\n",
              "      display: none;\n",
              "      fill: #1967D2;\n",
              "      height: 32px;\n",
              "      padding: 0 0 0 0;\n",
              "      width: 32px;\n",
              "    }\n",
              "\n",
              "    .colab-df-convert:hover {\n",
              "      background-color: #E2EBFA;\n",
              "      box-shadow: 0px 1px 2px rgba(60, 64, 67, 0.3), 0px 1px 3px 1px rgba(60, 64, 67, 0.15);\n",
              "      fill: #174EA6;\n",
              "    }\n",
              "\n",
              "    .colab-df-buttons div {\n",
              "      margin-bottom: 4px;\n",
              "    }\n",
              "\n",
              "    [theme=dark] .colab-df-convert {\n",
              "      background-color: #3B4455;\n",
              "      fill: #D2E3FC;\n",
              "    }\n",
              "\n",
              "    [theme=dark] .colab-df-convert:hover {\n",
              "      background-color: #434B5C;\n",
              "      box-shadow: 0px 1px 3px 1px rgba(0, 0, 0, 0.15);\n",
              "      filter: drop-shadow(0px 1px 2px rgba(0, 0, 0, 0.3));\n",
              "      fill: #FFFFFF;\n",
              "    }\n",
              "  </style>\n",
              "\n",
              "    <script>\n",
              "      const buttonEl =\n",
              "        document.querySelector('#df-25ef4698-7c46-466c-b052-f9bd9cd25edf button.colab-df-convert');\n",
              "      buttonEl.style.display =\n",
              "        google.colab.kernel.accessAllowed ? 'block' : 'none';\n",
              "\n",
              "      async function convertToInteractive(key) {\n",
              "        const element = document.querySelector('#df-25ef4698-7c46-466c-b052-f9bd9cd25edf');\n",
              "        const dataTable =\n",
              "          await google.colab.kernel.invokeFunction('convertToInteractive',\n",
              "                                                    [key], {});\n",
              "        if (!dataTable) return;\n",
              "\n",
              "        const docLinkHtml = 'Like what you see? Visit the ' +\n",
              "          '<a target=\"_blank\" href=https://colab.research.google.com/notebooks/data_table.ipynb>data table notebook</a>'\n",
              "          + ' to learn more about interactive tables.';\n",
              "        element.innerHTML = '';\n",
              "        dataTable['output_type'] = 'display_data';\n",
              "        await google.colab.output.renderOutput(dataTable, element);\n",
              "        const docLink = document.createElement('div');\n",
              "        docLink.innerHTML = docLinkHtml;\n",
              "        element.appendChild(docLink);\n",
              "      }\n",
              "    </script>\n",
              "  </div>\n",
              "\n",
              "\n",
              "    <div id=\"df-a3c5be0f-ed73-4496-86dd-cd138879ebce\">\n",
              "      <button class=\"colab-df-quickchart\" onclick=\"quickchart('df-a3c5be0f-ed73-4496-86dd-cd138879ebce')\"\n",
              "                title=\"Suggest charts\"\n",
              "                style=\"display:none;\">\n",
              "\n",
              "<svg xmlns=\"http://www.w3.org/2000/svg\" height=\"24px\"viewBox=\"0 0 24 24\"\n",
              "     width=\"24px\">\n",
              "    <g>\n",
              "        <path d=\"M19 3H5c-1.1 0-2 .9-2 2v14c0 1.1.9 2 2 2h14c1.1 0 2-.9 2-2V5c0-1.1-.9-2-2-2zM9 17H7v-7h2v7zm4 0h-2V7h2v10zm4 0h-2v-4h2v4z\"/>\n",
              "    </g>\n",
              "</svg>\n",
              "      </button>\n",
              "\n",
              "<style>\n",
              "  .colab-df-quickchart {\n",
              "      --bg-color: #E8F0FE;\n",
              "      --fill-color: #1967D2;\n",
              "      --hover-bg-color: #E2EBFA;\n",
              "      --hover-fill-color: #174EA6;\n",
              "      --disabled-fill-color: #AAA;\n",
              "      --disabled-bg-color: #DDD;\n",
              "  }\n",
              "\n",
              "  [theme=dark] .colab-df-quickchart {\n",
              "      --bg-color: #3B4455;\n",
              "      --fill-color: #D2E3FC;\n",
              "      --hover-bg-color: #434B5C;\n",
              "      --hover-fill-color: #FFFFFF;\n",
              "      --disabled-bg-color: #3B4455;\n",
              "      --disabled-fill-color: #666;\n",
              "  }\n",
              "\n",
              "  .colab-df-quickchart {\n",
              "    background-color: var(--bg-color);\n",
              "    border: none;\n",
              "    border-radius: 50%;\n",
              "    cursor: pointer;\n",
              "    display: none;\n",
              "    fill: var(--fill-color);\n",
              "    height: 32px;\n",
              "    padding: 0;\n",
              "    width: 32px;\n",
              "  }\n",
              "\n",
              "  .colab-df-quickchart:hover {\n",
              "    background-color: var(--hover-bg-color);\n",
              "    box-shadow: 0 1px 2px rgba(60, 64, 67, 0.3), 0 1px 3px 1px rgba(60, 64, 67, 0.15);\n",
              "    fill: var(--button-hover-fill-color);\n",
              "  }\n",
              "\n",
              "  .colab-df-quickchart-complete:disabled,\n",
              "  .colab-df-quickchart-complete:disabled:hover {\n",
              "    background-color: var(--disabled-bg-color);\n",
              "    fill: var(--disabled-fill-color);\n",
              "    box-shadow: none;\n",
              "  }\n",
              "\n",
              "  .colab-df-spinner {\n",
              "    border: 2px solid var(--fill-color);\n",
              "    border-color: transparent;\n",
              "    border-bottom-color: var(--fill-color);\n",
              "    animation:\n",
              "      spin 1s steps(1) infinite;\n",
              "  }\n",
              "\n",
              "  @keyframes spin {\n",
              "    0% {\n",
              "      border-color: transparent;\n",
              "      border-bottom-color: var(--fill-color);\n",
              "      border-left-color: var(--fill-color);\n",
              "    }\n",
              "    20% {\n",
              "      border-color: transparent;\n",
              "      border-left-color: var(--fill-color);\n",
              "      border-top-color: var(--fill-color);\n",
              "    }\n",
              "    30% {\n",
              "      border-color: transparent;\n",
              "      border-left-color: var(--fill-color);\n",
              "      border-top-color: var(--fill-color);\n",
              "      border-right-color: var(--fill-color);\n",
              "    }\n",
              "    40% {\n",
              "      border-color: transparent;\n",
              "      border-right-color: var(--fill-color);\n",
              "      border-top-color: var(--fill-color);\n",
              "    }\n",
              "    60% {\n",
              "      border-color: transparent;\n",
              "      border-right-color: var(--fill-color);\n",
              "    }\n",
              "    80% {\n",
              "      border-color: transparent;\n",
              "      border-right-color: var(--fill-color);\n",
              "      border-bottom-color: var(--fill-color);\n",
              "    }\n",
              "    90% {\n",
              "      border-color: transparent;\n",
              "      border-bottom-color: var(--fill-color);\n",
              "    }\n",
              "  }\n",
              "</style>\n",
              "\n",
              "      <script>\n",
              "        async function quickchart(key) {\n",
              "          const quickchartButtonEl =\n",
              "            document.querySelector('#' + key + ' button');\n",
              "          quickchartButtonEl.disabled = true;  // To prevent multiple clicks.\n",
              "          quickchartButtonEl.classList.add('colab-df-spinner');\n",
              "          try {\n",
              "            const charts = await google.colab.kernel.invokeFunction(\n",
              "                'suggestCharts', [key], {});\n",
              "          } catch (error) {\n",
              "            console.error('Error during call to suggestCharts:', error);\n",
              "          }\n",
              "          quickchartButtonEl.classList.remove('colab-df-spinner');\n",
              "          quickchartButtonEl.classList.add('colab-df-quickchart-complete');\n",
              "        }\n",
              "        (() => {\n",
              "          let quickchartButtonEl =\n",
              "            document.querySelector('#df-a3c5be0f-ed73-4496-86dd-cd138879ebce button');\n",
              "          quickchartButtonEl.style.display =\n",
              "            google.colab.kernel.accessAllowed ? 'block' : 'none';\n",
              "        })();\n",
              "      </script>\n",
              "    </div>\n",
              "\n",
              "    </div>\n",
              "  </div>\n"
            ],
            "application/vnd.google.colaboratory.intrinsic+json": {
              "type": "dataframe",
              "summary": "{\n  \"name\": \"training_df[targets]\",\n  \"rows\": 16,\n  \"fields\": [\n    {\n      \"column\": \"count\",\n      \"properties\": {\n        \"dtype\": \"number\",\n        \"std\": 4.246076620442295,\n        \"min\": 89.0,\n        \"max\": 106.0,\n        \"num_unique_values\": 3,\n        \"samples\": [\n          106.0,\n          89.0,\n          104.0\n        ],\n        \"semantic_type\": \"\",\n        \"description\": \"\"\n      }\n    },\n    {\n      \"column\": \"mean\",\n      \"properties\": {\n        \"dtype\": \"number\",\n        \"std\": 9.10532688936702,\n        \"min\": 0.033962264150943396,\n        \"max\": 32.05877358490566,\n        \"num_unique_values\": 16,\n        \"samples\": [\n          3.189150943396226,\n          2.1342452830188683,\n          3.915188679245283\n        ],\n        \"semantic_type\": \"\",\n        \"description\": \"\"\n      }\n    },\n    {\n      \"column\": \"std\",\n      \"properties\": {\n        \"dtype\": \"number\",\n        \"std\": 0.783783054382256,\n        \"min\": 0.021343887775493627,\n        \"max\": 2.599183588733681,\n        \"num_unique_values\": 16,\n        \"samples\": [\n          0.3624706698795242,\n          0.17890113318179027,\n          0.5283924067297594\n        ],\n        \"semantic_type\": \"\",\n        \"description\": \"\"\n      }\n    },\n    {\n      \"column\": \"min\",\n      \"properties\": {\n        \"dtype\": \"number\",\n        \"std\": 7.034968816562018,\n        \"min\": 0.01,\n        \"max\": 23.85,\n        \"num_unique_values\": 15,\n        \"samples\": [\n          6.3,\n          1.71,\n          2.3\n        ],\n        \"semantic_type\": \"\",\n        \"description\": \"\"\n      }\n    },\n    {\n      \"column\": \"25%\",\n      \"properties\": {\n        \"dtype\": \"number\",\n        \"std\": 8.735526504297932,\n        \"min\": 0.025,\n        \"max\": 31.175,\n        \"num_unique_values\": 16,\n        \"samples\": [\n          3.0175,\n          2.03,\n          3.7824999999999998\n        ],\n        \"semantic_type\": \"\",\n        \"description\": \"\"\n      }\n    },\n    {\n      \"column\": \"50%\",\n      \"properties\": {\n        \"dtype\": \"number\",\n        \"std\": 9.089749807475451,\n        \"min\": 0.025,\n        \"max\": 32.19,\n        \"num_unique_values\": 16,\n        \"samples\": [\n          3.23,\n          2.11,\n          4.0\n        ],\n        \"semantic_type\": \"\",\n        \"description\": \"\"\n      }\n    },\n    {\n      \"column\": \"75%\",\n      \"properties\": {\n        \"dtype\": \"number\",\n        \"std\": 9.423982746551038,\n        \"min\": 0.025,\n        \"max\": 33.31,\n        \"num_unique_values\": 16,\n        \"samples\": [\n          3.3675,\n          2.21,\n          4.297499999999999\n        ],\n        \"semantic_type\": \"\",\n        \"description\": \"\"\n      }\n    },\n    {\n      \"column\": \"max\",\n      \"properties\": {\n        \"dtype\": \"number\",\n        \"std\": 11.76195106760212,\n        \"min\": 0.1,\n        \"max\": 37.51,\n        \"num_unique_values\": 16,\n        \"samples\": [\n          4.43,\n          2.9,\n          4.71\n        ],\n        \"semantic_type\": \"\",\n        \"description\": \"\"\n      }\n    }\n  ]\n}"
            }
          },
          "metadata": {},
          "execution_count": 292
        }
      ]
    },
    {
      "cell_type": "code",
      "source": [
        "training_df.columns"
      ],
      "metadata": {
        "id": "QpdiIFArriOE",
        "colab": {
          "base_uri": "https://localhost:8080/"
        },
        "outputId": "7c966ff7-b3e8-40b3-def2-4b031632bf2a"
      },
      "execution_count": 141,
      "outputs": [
        {
          "output_type": "execute_result",
          "data": {
            "text/plain": [
              "Index(['трав_сен', 'конц_зерн', 'масличн', 'жир', 'пром_отх', 'мин_техно',\n",
              "       'сп', 'крахмал', 'andfom', 'сахар (вру)', 'нву', 'ожк', 'k', 'масляная',\n",
              "       'капроновая', 'каприловая', 'каприновая', 'деценовая', 'лауриновая',\n",
              "       'миристиновая', 'миристолеиновая', 'пальмитиновая', 'пальмитолеиновая',\n",
              "       'стеариновая', 'олеиновая', 'линолевая', 'линоленовая', 'арахиновая',\n",
              "       'рацион_source', 'наименование_жк'],\n",
              "      dtype='object')"
            ]
          },
          "metadata": {},
          "execution_count": 141
        }
      ]
    },
    {
      "cell_type": "code",
      "source": [
        "X = training_df[['трав_сен', 'конц_зерн', 'масличн', 'жир', 'пром_отх', 'мин_техно','сп', 'крахмал', 'andfom', 'сахар (вру)', 'нву', 'ожк', 'k']].fillna(0)"
      ],
      "metadata": {
        "id": "vmfqFKHJlc9b"
      },
      "execution_count": 149,
      "outputs": []
    },
    {
      "cell_type": "code",
      "source": [
        "training_df.info()"
      ],
      "metadata": {
        "colab": {
          "base_uri": "https://localhost:8080/"
        },
        "id": "4JrJe2oQy0_W",
        "outputId": "9c318eca-0a62-4b00-94eb-8f844f0c273e"
      },
      "execution_count": 183,
      "outputs": [
        {
          "output_type": "stream",
          "name": "stdout",
          "text": [
            "<class 'pandas.core.frame.DataFrame'>\n",
            "RangeIndex: 106 entries, 0 to 105\n",
            "Data columns (total 31 columns):\n",
            " #   Column            Non-Null Count  Dtype  \n",
            "---  ------            --------------  -----  \n",
            " 0   трав_сен          106 non-null    float64\n",
            " 1   конц_зерн         106 non-null    float64\n",
            " 2   масличн           106 non-null    float64\n",
            " 3   жир               106 non-null    float64\n",
            " 4   пром_отх          106 non-null    float64\n",
            " 5   мин_техно         106 non-null    float64\n",
            " 6   сп                106 non-null    float64\n",
            " 7   крахмал           106 non-null    float64\n",
            " 8   andfom            106 non-null    float64\n",
            " 9   сахар (вру)       106 non-null    float64\n",
            " 10  нву               106 non-null    float64\n",
            " 11  ожк               104 non-null    float64\n",
            " 12  k                 106 non-null    float64\n",
            " 13  масляная          106 non-null    float64\n",
            " 14  капроновая        106 non-null    float64\n",
            " 15  каприловая        106 non-null    float64\n",
            " 16  каприновая        106 non-null    float64\n",
            " 17  деценовая         89 non-null     float64\n",
            " 18  лауриновая        106 non-null    float64\n",
            " 19  миристиновая      106 non-null    float64\n",
            " 20  миристолеиновая   106 non-null    float64\n",
            " 21  пальмитиновая     106 non-null    float64\n",
            " 22  пальмитолеиновая  106 non-null    float64\n",
            " 23  стеариновая       106 non-null    float64\n",
            " 24  олеиновая         106 non-null    float64\n",
            " 25  линолевая         106 non-null    float64\n",
            " 26  линоленовая       104 non-null    float64\n",
            " 27  арахиновая        106 non-null    float64\n",
            " 28  рацион_source     106 non-null    object \n",
            " 29  наименование_жк   106 non-null    object \n",
            " 30  лаборатория       106 non-null    object \n",
            "dtypes: float64(28), object(3)\n",
            "memory usage: 25.8+ KB\n"
          ]
        }
      ]
    },
    {
      "cell_type": "code",
      "source": [
        "Y = training_df[['масляная','капроновая', 'каприловая', 'каприновая', 'деценовая', 'лауриновая',\n",
        "       'миристиновая', 'миристолеиновая', 'пальмитиновая', 'пальмитолеиновая',\n",
        "       'стеариновая', 'олеиновая', 'линолевая', 'линоленовая', 'арахиновая']]"
      ],
      "metadata": {
        "id": "zJwwmPjA1T2u"
      },
      "execution_count": 150,
      "outputs": []
    },
    {
      "cell_type": "code",
      "source": [
        "import json\n",
        "import numpy as np\n",
        "import pandas as pd\n",
        "from sklearn.model_selection import train_test_split\n",
        "from sklearn.preprocessing import MinMaxScaler\n",
        "from sklearn.linear_model import LinearRegression\n",
        "from sklearn.metrics import r2_score, mean_absolute_error\n",
        "\n",
        "def train_and_evaluate(X: pd.DataFrame, Y: pd.DataFrame, target_col: str,\n",
        "                       test_size: float = 0.2, random_state: int = 42,\n",
        "                       json_path: str = \"weights.json\"):\n",
        "    numeric_X = X.select_dtypes(include=[np.number])\n",
        "    X_train, X_test, y_train, y_test = train_test_split(numeric_X, Y[target_col],\n",
        "                                                        test_size=test_size,\n",
        "                                                        random_state=random_state)\n",
        "    corr = X_train.corrwith(y_train)\n",
        "    selected = corr[abs(corr) > 0.1].index.tolist()\n",
        "    if not selected:\n",
        "        raise ValueError(\"Нет признаков с корреляцией > 0.1 по модулю\")\n",
        "    X_train_sel = X_train[selected]\n",
        "    X_test_sel = X_test[selected]\n",
        "    scaler = MinMaxScaler()\n",
        "    X_train_scaled = scaler.fit_transform(X_train_sel)\n",
        "    X_test_scaled = scaler.transform(X_test_sel)\n",
        "    model = LinearRegression()\n",
        "    model.fit(X_train_scaled, y_train)\n",
        "    w = model.coef_\n",
        "    b = model.intercept_\n",
        "    scale = scaler.scale_\n",
        "    min_ = scaler.min_\n",
        "    coef_raw_selected = w * scale\n",
        "    intercept_raw = float(b + np.dot(w, min_))\n",
        "    sel_idx = {feat: i for i, feat in enumerate(selected)}\n",
        "    weights_map = {}\n",
        "    for feat in X.columns:\n",
        "        if feat in sel_idx:\n",
        "            weights_map[feat] = float(coef_raw_selected[sel_idx[feat]])\n",
        "        else:\n",
        "            weights_map[feat] = 0.0\n",
        "    weights_map[\"intercept\"] = float(intercept_raw)\n",
        "    with open(json_path, \"w\", encoding=\"utf-8\") as f:\n",
        "        json.dump(weights_map, f, ensure_ascii=False, indent=4)\n",
        "    y_pred_scaled = model.predict(X_test_scaled)\n",
        "    y_pred_raw_from_weights = intercept_raw + X_test_sel.values.dot(coef_raw_selected)\n",
        "    r2 = r2_score(y_test, y_pred_raw_from_weights)\n",
        "    mae = mean_absolute_error(y_test, y_pred_raw_from_weights)\n",
        "    y_true = np.asarray(y_test)\n",
        "    y_pred = np.asarray(y_pred_raw_from_weights)\n",
        "    mask = y_true != 0\n",
        "    if mask.any():\n",
        "        mape = (np.abs((y_true[mask] - y_pred[mask]) / y_true[mask]).mean()) * 100\n",
        "    else:\n",
        "        mape = float(\"nan\")\n",
        "    metrics = {\"R2\": float(r2), \"MAE\": float(mae), \"MAPE_percent\": float(mape)}\n",
        "    print(\"Метрики на test:\", metrics)\n",
        "    return {\n",
        "        \"model\": model,\n",
        "        \"selected_features\": selected,\n",
        "        \"scaler\": scaler,\n",
        "        \"weights_map\": weights_map,\n",
        "        \"metrics\": metrics,\n",
        "        \"y_test\": y_test,\n",
        "        \"y_pred\": y_pred_raw_from_weights\n",
        "    }\n"
      ],
      "metadata": {
        "id": "DWk-oUx32CaO"
      },
      "execution_count": 163,
      "outputs": []
    },
    {
      "cell_type": "code",
      "source": [
        "result = train_and_evaluate(X, Y, \"лауриновая\", test_size=0.27, random_state=123, json_path=\"model_weights.json\")\n"
      ],
      "metadata": {
        "colab": {
          "base_uri": "https://localhost:8080/"
        },
        "id": "iMyguPmV2FG0",
        "outputId": "5b726384-bbcd-4e0e-c67f-aa8ec106fd6c"
      },
      "execution_count": 172,
      "outputs": [
        {
          "output_type": "stream",
          "name": "stdout",
          "text": [
            "Метрики на test: {'R2': 0.5006396936657626, 'MAE': 0.34224258544353525, 'MAPE_percent': 9.975932423089395}\n"
          ]
        }
      ]
    },
    {
      "cell_type": "code",
      "source": [
        "result = train_and_evaluate(X, Y, \"лауриновая\", test_size=0.27, random_state=123, json_path=\"model_weights.json\")\n"
      ],
      "metadata": {
        "id": "b4V-GN6ki_aB"
      },
      "execution_count": null,
      "outputs": []
    },
    {
      "cell_type": "code",
      "source": [
        "for acid in ['масляная','капроновая', 'каприловая', 'каприновая', 'деценовая', 'лауриновая',\n",
        "       'миристиновая', 'миристолеиновая', 'пальмитиновая', 'пальмитолеиновая',\n",
        "       'стеариновая', 'олеиновая', 'линолевая', 'линоленовая', 'арахиновая']:\n",
        "    result = train_and_evaluate(X, Y, acid, test_size=0.27, random_state=123, json_path=\"model_weights.json\")\n",
        "    print(f'{acid} Метрики модели на test {result['model_metrics']}')\n",
        "    print(f'{acid} Метрики baseline на test {result['baseline_metrics']}')\n",
        "    print()"
      ],
      "metadata": {
        "colab": {
          "base_uri": "https://localhost:8080/"
        },
        "id": "ntyZjwVj51Qd",
        "outputId": "931d0341-7d0d-452b-b06b-db990818de18"
      },
      "execution_count": 191,
      "outputs": [
        {
          "output_type": "stream",
          "name": "stdout",
          "text": [
            "масляная Метрики модели на test {'R2': 0.3176424412995046, 'MAE': 0.21729272101354535, 'MAPE_percent': 6.78735246272096}\n",
            "масляная Метрики baseline на test {'R2': -0.02727182699270503, 'MAE': 0.2300358262427229, 'MAPE_percent': 7.030554370675351}\n",
            "\n",
            "капроновая Метрики модели на test {'R2': -0.11368917030532377, 'MAE': 0.14125778897846047, 'MAPE_percent': 6.576146248657769}\n",
            "капроновая Метрики baseline на test {'R2': -0.016511224184911466, 'MAE': 0.12912225705329156, 'MAPE_percent': 6.074850709752356}\n",
            "\n",
            "каприловая Метрики модели на test {'R2': 0.12692260455942272, 'MAE': 0.08351969196232059, 'MAPE_percent': 6.494091587462419}\n",
            "каприловая Метрики baseline на test {'R2': -0.03014702643704137, 'MAE': 0.08335423197492156, 'MAPE_percent': 6.910615789381544}\n",
            "\n",
            "каприновая Метрики модели на test {'R2': 0.4746560853622508, 'MAE': 0.254915462180467, 'MAPE_percent': 9.10073527527739}\n",
            "каприновая Метрики baseline на test {'R2': -0.030424014132245825, 'MAE': 0.3122212270488132, 'MAPE_percent': 12.217036696504211}\n",
            "\n",
            "деценовая Метрики модели на test {'R2': 0.2670131790841189, 'MAE': 0.03056970285542719, 'MAPE_percent': 15.187357627294967}\n",
            "деценовая Метрики baseline на test {'R2': -0.005854062719527597, 'MAE': 0.033791208791208796, 'MAPE_percent': 19.622428802190033}\n",
            "\n",
            "лауриновая Метрики модели на test {'R2': 0.5006396936657626, 'MAE': 0.34224258544353525, 'MAPE_percent': 9.975932423089395}\n",
            "лауриновая Метрики baseline на test {'R2': -0.003155457594895328, 'MAE': 0.43085087326466637, 'MAPE_percent': 14.415952573799245}\n",
            "\n",
            "миристиновая Метрики модели на test {'R2': 0.3628636693467766, 'MAE': 0.7637403813745357, 'MAPE_percent': 7.953408330407748}\n",
            "миристиновая Метрики baseline на test {'R2': -0.06039385134557551, 'MAE': 0.7693372145096282, 'MAPE_percent': 8.877700165721162}\n",
            "\n",
            "миристолеиновая Метрики модели на test {'R2': 0.48826403467696244, 'MAE': 0.12791782101283872, 'MAPE_percent': 14.784116808057284}\n",
            "миристолеиновая Метрики baseline на test {'R2': -0.0022119398675108926, 'MAE': 0.15024630541871914, 'MAPE_percent': 20.518944533497308}\n",
            "\n",
            "пальмитиновая Метрики модели на test {'R2': 0.27190106387099144, 'MAE': 1.5167038423696635, 'MAPE_percent': 5.206552948305157}\n",
            "пальмитиновая Метрики baseline на test {'R2': -0.06912473663033492, 'MAE': 1.8833363188535603, 'MAPE_percent': 6.47981362990692}\n",
            "\n",
            "пальмитолеиновая Метрики модели на test {'R2': -0.6373441185675974, 'MAE': 0.17168170139138814, 'MAPE_percent': 7.499374369620875}\n",
            "пальмитолеиновая Метрики baseline на test {'R2': -0.3972418142254355, 'MAE': 0.18075682937751908, 'MAPE_percent': 7.688625573353381}\n",
            "\n",
            "стеариновая Метрики модели на test {'R2': -0.022912045613957766, 'MAE': 1.1748721652574403, 'MAPE_percent': 14.069093808803443}\n",
            "стеариновая Метрики baseline на test {'R2': -0.0017560524388589016, 'MAE': 1.2465965069413345, 'MAPE_percent': 14.40547646380273}\n",
            "\n",
            "олеиновая Метрики модели на test {'R2': 0.45750095819728365, 'MAE': 1.8600875107871344, 'MAPE_percent': 7.5409520673147}\n",
            "олеиновая Метрики baseline на test {'R2': -0.06768218937517334, 'MAE': 2.1465562024182714, 'MAPE_percent': 8.263640861361479}\n",
            "\n",
            "линолевая Метрики модели на test {'R2': -7.3492374900401405, 'MAE': 0.3828162825789719, 'MAPE_percent': 13.869560114239105}\n",
            "линолевая Метрики baseline на test {'R2': -0.018178484317772803, 'MAE': 0.20232870577698164, 'MAPE_percent': 7.211561108245084}\n",
            "\n",
            "линоленовая Метрики модели на test {'R2': 0.23057000106499126, 'MAE': 0.027392565623292335, 'MAPE_percent': 6.508712542599356}\n",
            "линоленовая Метрики baseline на test {'R2': -0.033059024741193044, 'MAE': 0.035103383458646616, 'MAPE_percent': 8.447647052497874}\n",
            "\n",
            "арахиновая Метрики модели на test {'R2': -11.627234747409803, 'MAE': 0.025481704593913034, 'MAPE_percent': 24.07748912350559}\n",
            "арахиновая Метрики baseline на test {'R2': -0.2689299743939626, 'MAE': 0.015647111509180456, 'MAPE_percent': 15.872523008662714}\n",
            "\n"
          ]
        }
      ]
    },
    {
      "cell_type": "code",
      "source": [
        "print(result['weights_map'])"
      ],
      "metadata": {
        "colab": {
          "base_uri": "https://localhost:8080/"
        },
        "id": "S6ygf9dA5nJO",
        "outputId": "414bfada-28e3-4626-934c-af8b76392298"
      },
      "execution_count": 89,
      "outputs": [
        {
          "output_type": "stream",
          "name": "stdout",
          "text": [
            "{'трав_сен': 0.0, 'конц_зерн': 0.0, 'масличн': 0.0, 'жир': 0.0, 'пром_отх': 0.04398908531577213, 'мин_техно': -0.040364592789561074, 'сп': -0.12269104624701033, 'крахмал': 0.16910170778178799, 'andfom': 0.032667887804979506, 'сахар (вру)': 0.0, 'нву': 0.02052460876708207, 'ожк': 0.0, 'k': 0.829607828563442, 'intercept': -1.5506360231826943}\n"
          ]
        }
      ]
    },
    {
      "cell_type": "code",
      "source": [
        "import json\n",
        "import numpy as np\n",
        "import pandas as pd\n",
        "from sklearn.model_selection import train_test_split\n",
        "from sklearn.preprocessing import MinMaxScaler\n",
        "from sklearn.linear_model import LinearRegression\n",
        "from sklearn.metrics import r2_score, mean_absolute_error\n",
        "\n",
        "def train_and_evaluate(X: pd.DataFrame, Y: pd.DataFrame, target_col: str,\n",
        "                       test_size: float = 0.2, random_state: int = 42,\n",
        "                       json_path: str = \"weights.json\"):\n",
        "    numeric_X = X.select_dtypes(include=[np.number])\n",
        "    X_train, X_test, y_train, y_test = train_test_split(numeric_X, Y[target_col],\n",
        "                                                        test_size=test_size,\n",
        "                                                        random_state=random_state)\n",
        "    corr = X_train.corrwith(y_train)\n",
        "    selected = corr[abs(corr) > 0.1].index.tolist()\n",
        "    if not selected:\n",
        "        raise ValueError(\"Нет признаков с корреляцией > 0.1 по модулю\")\n",
        "    X_train_sel = X_train[selected]\n",
        "    X_test_sel = X_test[selected]\n",
        "    scaler = MinMaxScaler()\n",
        "    X_train_scaled = scaler.fit_transform(X_train_sel)\n",
        "    X_test_scaled = scaler.transform(X_test_sel)\n",
        "    model = LinearRegression()\n",
        "    model.fit(X_train_scaled, y_train)\n",
        "    w = model.coef_\n",
        "    b = model.intercept_\n",
        "    scale = scaler.scale_\n",
        "    min_ = scaler.min_\n",
        "    coef_raw_selected = w * scale\n",
        "    intercept_raw = float(b + np.dot(w, min_))\n",
        "    sel_idx = {feat: i for i, feat in enumerate(selected)}\n",
        "    weights_map = {}\n",
        "    for feat in X.columns:\n",
        "        if feat in sel_idx:\n",
        "            weights_map[feat] = float(coef_raw_selected[sel_idx[feat]])\n",
        "        else:\n",
        "            weights_map[feat] = 0.0\n",
        "    weights_map[\"intercept\"] = float(intercept_raw)\n",
        "    with open(json_path, \"w\", encoding=\"utf-8\") as f:\n",
        "        json.dump(weights_map, f, ensure_ascii=False, indent=4)\n",
        "    y_pred_raw_from_weights = intercept_raw + X_test_sel.values.dot(coef_raw_selected)\n",
        "    y_train_mean = float(y_train.mean())\n",
        "    baseline_pred = np.full(shape=y_test.shape, fill_value=y_train_mean, dtype=float)\n",
        "    def compute_metrics(y_true, y_pred):\n",
        "        y_true_arr = np.asarray(y_true)\n",
        "        y_pred_arr = np.asarray(y_pred)\n",
        "        r2 = r2_score(y_true_arr, y_pred_arr)\n",
        "        mae = mean_absolute_error(y_true_arr, y_pred_arr)\n",
        "        mask = y_true_arr != 0\n",
        "        if mask.any():\n",
        "            mape = (np.abs((y_true_arr[mask] - y_pred_arr[mask]) / y_true_arr[mask]).mean()) * 100\n",
        "        else:\n",
        "            mape = float(\"nan\")\n",
        "        return {\"R2\": float(r2), \"MAE\": float(mae), \"MAPE_percent\": float(mape)}\n",
        "    model_metrics = compute_metrics(y_test, y_pred_raw_from_weights)\n",
        "    baseline_metrics = compute_metrics(y_test, baseline_pred)\n",
        "    print(\"Метрики модели на test:\", model_metrics)\n",
        "    print(\"Метрики baseline (mean(train)) на test:\", baseline_metrics)\n",
        "    return {\n",
        "        \"model\": model,\n",
        "        \"selected_features\": selected,\n",
        "        \"scaler\": scaler,\n",
        "        \"weights_map\": weights_map,\n",
        "        \"model_metrics\": model_metrics,\n",
        "        \"baseline_metrics\": baseline_metrics,\n",
        "        \"y_test\": y_test,\n",
        "        \"y_pred_model\": y_pred_raw_from_weights,\n",
        "        \"y_pred_baseline\": baseline_pred\n",
        "    }\n"
      ],
      "metadata": {
        "id": "1we2nThv6Tb6"
      },
      "execution_count": 94,
      "outputs": []
    },
    {
      "cell_type": "code",
      "source": [
        "result = train_and_evaluate(X, Y, \"лауриновая\", test_size=0.3, random_state=123,\n",
        "                            json_path=\"model_weights.json\", normalize_target=True)\n",
        "print(\"Model metrics:\", result[\"model_metrics\"])\n",
        "print(\"Baseline metrics:\", result[\"baseline_metrics\"])\n"
      ],
      "metadata": {
        "colab": {
          "base_uri": "https://localhost:8080/",
          "height": 193
        },
        "id": "PqH3q76d6Rbm",
        "outputId": "01a7c596-f7a1-46b9-819f-5ce32fd8134f"
      },
      "execution_count": 160,
      "outputs": [
        {
          "output_type": "error",
          "ename": "TypeError",
          "evalue": "train_and_evaluate() got an unexpected keyword argument 'normalize_target'",
          "traceback": [
            "\u001b[0;31m---------------------------------------------------------------------------\u001b[0m",
            "\u001b[0;31mTypeError\u001b[0m                                 Traceback (most recent call last)",
            "\u001b[0;32m/tmp/ipython-input-531854373.py\u001b[0m in \u001b[0;36m<cell line: 0>\u001b[0;34m()\u001b[0m\n\u001b[0;32m----> 1\u001b[0;31m result = train_and_evaluate(X, Y, \"лауриновая\", test_size=0.3, random_state=123,\n\u001b[0m\u001b[1;32m      2\u001b[0m                             json_path=\"model_weights.json\", normalize_target=True)\n\u001b[1;32m      3\u001b[0m \u001b[0mprint\u001b[0m\u001b[0;34m(\u001b[0m\u001b[0;34m\"Model metrics:\"\u001b[0m\u001b[0;34m,\u001b[0m \u001b[0mresult\u001b[0m\u001b[0;34m[\u001b[0m\u001b[0;34m\"model_metrics\"\u001b[0m\u001b[0;34m]\u001b[0m\u001b[0;34m)\u001b[0m\u001b[0;34m\u001b[0m\u001b[0;34m\u001b[0m\u001b[0m\n\u001b[1;32m      4\u001b[0m \u001b[0mprint\u001b[0m\u001b[0;34m(\u001b[0m\u001b[0;34m\"Baseline metrics:\"\u001b[0m\u001b[0;34m,\u001b[0m \u001b[0mresult\u001b[0m\u001b[0;34m[\u001b[0m\u001b[0;34m\"baseline_metrics\"\u001b[0m\u001b[0;34m]\u001b[0m\u001b[0;34m)\u001b[0m\u001b[0;34m\u001b[0m\u001b[0;34m\u001b[0m\u001b[0m\n",
            "\u001b[0;31mTypeError\u001b[0m: train_and_evaluate() got an unexpected keyword argument 'normalize_target'"
          ]
        }
      ]
    },
    {
      "cell_type": "code",
      "source": [
        "all_acids = ['масляная','капроновая', 'каприловая', 'каприновая', 'деценовая', 'лауриновая',\n",
        "       'миристиновая', 'миристолеиновая', 'пальмитиновая', 'пальмитолеиновая',\n",
        "       'стеариновая', 'олеиновая', 'линолевая', 'линоленовая', 'арахиновая']"
      ],
      "metadata": {
        "id": "hK12BYt8Pg3I"
      },
      "execution_count": 197,
      "outputs": []
    },
    {
      "cell_type": "code",
      "source": [
        "for acid in all_acids:\n",
        "       print(\"Model metrics:\", result[\"model_metrics\"])\n",
        "       print(\"Baseline metrics:\", result[\"baseline_metrics\"])\n",
        "       print()\n",
        "\n"
      ],
      "metadata": {
        "colab": {
          "base_uri": "https://localhost:8080/",
          "height": 211
        },
        "id": "o8wJsqcW8dSY",
        "outputId": "d7027b3a-b28f-42da-8725-13d3a82ed153"
      },
      "execution_count": 159,
      "outputs": [
        {
          "output_type": "error",
          "ename": "KeyError",
          "evalue": "'model_metrics'",
          "traceback": [
            "\u001b[0;31m---------------------------------------------------------------------------\u001b[0m",
            "\u001b[0;31mKeyError\u001b[0m                                  Traceback (most recent call last)",
            "\u001b[0;32m/tmp/ipython-input-3614041955.py\u001b[0m in \u001b[0;36m<cell line: 0>\u001b[0;34m()\u001b[0m\n\u001b[1;32m      2\u001b[0m        \u001b[0;34m'миристиновая'\u001b[0m\u001b[0;34m,\u001b[0m \u001b[0;34m'миристолеиновая'\u001b[0m\u001b[0;34m,\u001b[0m \u001b[0;34m'пальмитиновая'\u001b[0m\u001b[0;34m,\u001b[0m \u001b[0;34m'пальмитолеиновая'\u001b[0m\u001b[0;34m,\u001b[0m\u001b[0;34m\u001b[0m\u001b[0;34m\u001b[0m\u001b[0m\n\u001b[1;32m      3\u001b[0m        'стеариновая', 'олеиновая', 'линолевая', 'линоленовая', 'арахиновая']:\n\u001b[0;32m----> 4\u001b[0;31m        \u001b[0mprint\u001b[0m\u001b[0;34m(\u001b[0m\u001b[0;34m\"Model metrics:\"\u001b[0m\u001b[0;34m,\u001b[0m \u001b[0mresult\u001b[0m\u001b[0;34m[\u001b[0m\u001b[0;34m\"model_metrics\"\u001b[0m\u001b[0;34m]\u001b[0m\u001b[0;34m)\u001b[0m\u001b[0;34m\u001b[0m\u001b[0;34m\u001b[0m\u001b[0m\n\u001b[0m\u001b[1;32m      5\u001b[0m        \u001b[0mprint\u001b[0m\u001b[0;34m(\u001b[0m\u001b[0;34m\"Baseline metrics:\"\u001b[0m\u001b[0;34m,\u001b[0m \u001b[0mresult\u001b[0m\u001b[0;34m[\u001b[0m\u001b[0;34m\"baseline_metrics\"\u001b[0m\u001b[0;34m]\u001b[0m\u001b[0;34m)\u001b[0m\u001b[0;34m\u001b[0m\u001b[0;34m\u001b[0m\u001b[0m\n\u001b[1;32m      6\u001b[0m        \u001b[0mprint\u001b[0m\u001b[0;34m(\u001b[0m\u001b[0;34m)\u001b[0m\u001b[0;34m\u001b[0m\u001b[0;34m\u001b[0m\u001b[0m\n",
            "\u001b[0;31mKeyError\u001b[0m: 'model_metrics'"
          ]
        }
      ]
    },
    {
      "cell_type": "code",
      "source": [
        "import json\n",
        "import numpy as np\n",
        "import pandas as pd\n",
        "from sklearn.model_selection import train_test_split\n",
        "from sklearn.preprocessing import MinMaxScaler\n",
        "from sklearn.linear_model import LinearRegression\n",
        "from sklearn.metrics import r2_score, mean_absolute_error\n",
        "\n",
        "def _weighted_corr(x, y, w):\n",
        "    w = np.asarray(w, dtype=float)\n",
        "    if w.sum() == 0:\n",
        "        return 0.0\n",
        "    w = w / w.sum()\n",
        "    x = np.asarray(x, dtype=float)\n",
        "    y = np.asarray(y, dtype=float)\n",
        "    xm = (w * x).sum()\n",
        "    ym = (w * y).sum()\n",
        "    cov = (w * (x - xm) * (y - ym)).sum()\n",
        "    vx = (w * (x - xm) ** 2).sum()\n",
        "    vy = (w * (y - ym) ** 2).sum()\n",
        "    denom = np.sqrt(vx * vy)\n",
        "    return float(cov / denom) if denom > 0 else 0.0\n",
        "\n",
        "def train_and_evaluate_weighted(X: pd.DataFrame, Y: pd.DataFrame, target_col: str,\n",
        "                                weight_col: str = None,\n",
        "                                test_size: float = 0.2, random_state: int = 42,\n",
        "                                json_path: str = \"weights.json\"):\n",
        "    numeric_X = X.select_dtypes(include=[np.number])\n",
        "    if weight_col is not None:\n",
        "        if weight_col in Y.columns:\n",
        "            weights_all = Y[weight_col].astype(float)\n",
        "        elif weight_col in X.columns:\n",
        "            weights_all = X[weight_col].astype(float)\n",
        "        else:\n",
        "            raise ValueError(\"weight_col не найден в X или Y\")\n",
        "    else:\n",
        "        weights_all = pd.Series(1.0, index=Y.index)\n",
        "    X_train, X_test, y_train, y_test, w_train, w_test = train_test_split(\n",
        "        numeric_X, Y[target_col], weights_all, test_size=test_size, random_state=random_state)\n",
        "    corr_map = {}\n",
        "    for feat in X_train.columns:\n",
        "        corr_map[feat] = _weighted_corr(X_train[feat].values, y_train.values, w_train.values)\n",
        "    selected = [f for f, c in corr_map.items() if abs(c) > 0.1]\n",
        "    if not selected:\n",
        "        raise ValueError(\"Нет признаков с корреляцией > 0.1 по модулю\")\n",
        "    X_train_sel = X_train[selected]\n",
        "    X_test_sel = X_test[selected]\n",
        "    scaler = MinMaxScaler()\n",
        "    X_train_scaled = scaler.fit_transform(X_train_sel)\n",
        "    X_test_scaled = scaler.transform(X_test_sel)\n",
        "    model = LinearRegression()\n",
        "    model.fit(X_train_scaled, y_train.values, sample_weight=w_train.values)\n",
        "    w_model = model.coef_\n",
        "    b_model = model.intercept_\n",
        "    scale = scaler.scale_\n",
        "    min_ = scaler.min_\n",
        "    coef_raw_selected = w_model * scale\n",
        "    intercept_raw = float(b_model + np.dot(w_model, min_))\n",
        "    sel_idx = {feat: i for i, feat in enumerate(selected)}\n",
        "    weights_map = {}\n",
        "    for feat in X.columns:\n",
        "        if feat in sel_idx:\n",
        "            weights_map[feat] = float(coef_raw_selected[sel_idx[feat]])\n",
        "        else:\n",
        "            weights_map[feat] = 0.0\n",
        "    weights_map[\"intercept\"] = float(intercept_raw)\n",
        "    with open(json_path, \"w\", encoding=\"utf-8\") as f:\n",
        "        json.dump(weights_map, f, ensure_ascii=False, indent=4)\n",
        "    y_pred_model = intercept_raw + X_test_sel.values.dot(coef_raw_selected)\n",
        "    def weighted_metrics(y_true, y_pred, sample_weight):\n",
        "        y_true = np.asarray(y_true, dtype=float)\n",
        "        y_pred = np.asarray(y_pred, dtype=float)\n",
        "        sw = np.asarray(sample_weight, dtype=float)\n",
        "        if sw.sum() == 0:\n",
        "            return {\"R2\": float(\"nan\"), \"MAE\": float(\"nan\"), \"MAPE_percent\": float(\"nan\")}\n",
        "        r2 = r2_score(y_true, y_pred, sample_weight=sw)\n",
        "        mae = mean_absolute_error(y_true, y_pred, sample_weight=sw)\n",
        "        mask = y_true != 0\n",
        "        if mask.any():\n",
        "            w_mask = sw[mask]\n",
        "            denom = w_mask.sum()\n",
        "            if denom == 0:\n",
        "                mape = float(\"nan\")\n",
        "            else:\n",
        "                mape = (np.sum(w_mask * np.abs((y_true[mask] - y_pred[mask]) / y_true[mask])) / denom) * 100\n",
        "        else:\n",
        "            mape = float(\"nan\")\n",
        "        return {\"R2\": float(r2), \"MAE\": float(mae), \"MAPE_percent\": float(mape)}\n",
        "    model_metrics = weighted_metrics(y_test.values, y_pred_model, w_test.values)\n",
        "    y_train_mean_weighted = float((w_train.values * y_train.values).sum() / max(w_train.values.sum(), 1e-12))\n",
        "    baseline_pred = np.full(shape=y_test.shape, fill_value=y_train_mean_weighted, dtype=float)\n",
        "    baseline_metrics = weighted_metrics(y_test.values, baseline_pred, w_test.values)\n",
        "    return {\n",
        "        \"model\": model,\n",
        "        \"selected_features\": selected,\n",
        "        \"scaler\": scaler,\n",
        "        \"weights_map\": weights_map,\n",
        "        \"model_metrics\": model_metrics,\n",
        "        \"baseline_metrics\": baseline_metrics,\n",
        "        \"y_test\": y_test,\n",
        "        \"y_pred_model\": y_pred_model,\n",
        "        \"y_pred_baseline\": baseline_pred\n",
        "    }\n"
      ],
      "metadata": {
        "id": "qjpVGyh19urV"
      },
      "execution_count": null,
      "outputs": []
    },
    {
      "cell_type": "markdown",
      "source": [
        "с заполнением nan-ов"
      ],
      "metadata": {
        "id": "W7Ly-3Ma0oNW"
      }
    },
    {
      "cell_type": "code",
      "source": [
        "import json\n",
        "import numpy as np\n",
        "import pandas as pd\n",
        "from sklearn.model_selection import train_test_split\n",
        "from sklearn.preprocessing import MinMaxScaler\n",
        "from sklearn.linear_model import LinearRegression\n",
        "from sklearn.metrics import r2_score, mean_absolute_error\n",
        "\n",
        "def train_and_evaluate(X: pd.DataFrame, Y: pd.DataFrame, target_col: str,\n",
        "                       test_size: float = 0.2, random_state: int = 42,\n",
        "                       json_path: str = \"weights.json\", verbose : bool = False):\n",
        "    numeric_X = X.select_dtypes(include=[np.number])\n",
        "    X_train, X_test, y_train, y_test = train_test_split(numeric_X, Y[target_col],\n",
        "                                                        test_size=test_size,\n",
        "                                                        random_state=random_state)\n",
        "    train_df = pd.concat([X_train, y_train], axis=1).dropna()\n",
        "    X_train = train_df[numeric_X.columns]\n",
        "    y_train = train_df[target_col]\n",
        "    test_df = pd.concat([X_test, y_test], axis=1).dropna()\n",
        "    X_test = test_df[numeric_X.columns]\n",
        "    y_test = test_df[target_col]\n",
        "\n",
        "    corr = X_train.corrwith(y_train)\n",
        "    selected = corr[abs(corr) > 0.1].index.tolist()\n",
        "    if not selected:\n",
        "        raise ValueError(\"Нет признаков с корреляцией > 0.1 по модулю\")\n",
        "    X_train_sel = X_train[selected]\n",
        "    X_test_sel = X_test[selected]\n",
        "    scaler = MinMaxScaler()\n",
        "    X_train_scaled = scaler.fit_transform(X_train_sel)\n",
        "    X_test_scaled = scaler.transform(X_test_sel)\n",
        "    model = LinearRegression()\n",
        "    model.fit(X_train_scaled, y_train)\n",
        "    w = model.coef_\n",
        "    b = model.intercept_\n",
        "    scale = scaler.scale_\n",
        "    min_ = scaler.min_\n",
        "    coef_raw_selected = w * scale\n",
        "    intercept_raw = float(b + np.dot(w, min_))\n",
        "    sel_idx = {feat: i for i, feat in enumerate(selected)}\n",
        "    weights_map = {}\n",
        "    for feat in X.columns:\n",
        "        if feat in sel_idx:\n",
        "            weights_map[feat] = float(coef_raw_selected[sel_idx[feat]])\n",
        "        else:\n",
        "            weights_map[feat] = 0.0\n",
        "    weights_map[\"intercept\"] = float(intercept_raw)\n",
        "    with open(json_path, \"w\", encoding=\"utf-8\") as f:\n",
        "        json.dump(weights_map, f, ensure_ascii=False, indent=4)\n",
        "    y_pred_raw_from_weights = intercept_raw + X_test_sel.values.dot(coef_raw_selected)\n",
        "    y_train_mean = float(y_train.mean())\n",
        "    baseline_pred = np.full(shape=y_test.shape, fill_value=y_train_mean, dtype=float)\n",
        "    def compute_metrics(y_true, y_pred):\n",
        "        y_true_arr = np.asarray(y_true)\n",
        "        y_pred_arr = np.asarray(y_pred)\n",
        "        r2 = r2_score(y_true_arr, y_pred_arr)\n",
        "        mae = mean_absolute_error(y_true_arr, y_pred_arr)\n",
        "        mask = y_true_arr != 0\n",
        "        if mask.any():\n",
        "            mape = (np.abs((y_true_arr[mask] - y_pred_arr[mask]) / y_true_arr[mask]).mean()) * 100\n",
        "        else:\n",
        "            mape = float(\"nan\")\n",
        "        return {\"R2\": float(r2), \"MAE\": float(mae), \"MAPE_percent\": float(mape)}\n",
        "    model_metrics = compute_metrics(y_test, y_pred_raw_from_weights)\n",
        "    baseline_metrics = compute_metrics(y_test, baseline_pred)\n",
        "    if verbose==True:\n",
        "        print(\"Метрики модели на test:\", model_metrics)\n",
        "        print(\"Метрики baseline (mean(train)) на test:\", baseline_metrics)\n",
        "    return {\n",
        "        \"model\": model,\n",
        "        \"selected_features\": selected,\n",
        "        \"scaler\": scaler,\n",
        "        \"weights_map\": weights_map,\n",
        "        \"model_metrics\": model_metrics,\n",
        "        \"baseline_metrics\": baseline_metrics,\n",
        "        \"y_test\": y_test,\n",
        "        \"y_pred_model\": y_pred_raw_from_weights,\n",
        "        \"y_pred_baseline\": baseline_pred\n",
        "    }\n"
      ],
      "metadata": {
        "id": "dhQN7E3vzymt"
      },
      "execution_count": 186,
      "outputs": []
    },
    {
      "cell_type": "markdown",
      "source": [
        "# Feature engineering"
      ],
      "metadata": {
        "id": "wiahfng3AcTK"
      }
    },
    {
      "cell_type": "code",
      "source": [
        "training_df.columns"
      ],
      "metadata": {
        "colab": {
          "base_uri": "https://localhost:8080/"
        },
        "id": "5nPCAYrMEWgk",
        "outputId": "bde50308-02b3-47e5-d439-a3c20d101245"
      },
      "execution_count": 193,
      "outputs": [
        {
          "output_type": "execute_result",
          "data": {
            "text/plain": [
              "Index(['трав_сен', 'конц_зерн', 'масличн', 'жир', 'пром_отх', 'мин_техно',\n",
              "       'сп', 'крахмал', 'andfom', 'сахар (вру)', 'нву', 'ожк', 'k', 'масляная',\n",
              "       'капроновая', 'каприловая', 'каприновая', 'деценовая', 'лауриновая',\n",
              "       'миристиновая', 'миристолеиновая', 'пальмитиновая', 'пальмитолеиновая',\n",
              "       'стеариновая', 'олеиновая', 'линолевая', 'линоленовая', 'арахиновая',\n",
              "       'рацион_source', 'наименование_жк', 'лаборатория'],\n",
              "      dtype='object')"
            ]
          },
          "metadata": {},
          "execution_count": 193
        }
      ]
    },
    {
      "cell_type": "markdown",
      "source": [
        "# Сравнение моделей"
      ],
      "metadata": {
        "id": "jfRhvtyZPIIR"
      }
    },
    {
      "cell_type": "code",
      "source": [
        "import pandas as pd\n",
        "import numpy as np\n",
        "from sklearn.metrics import r2_score, mean_absolute_error, mean_absolute_percentage_error\n",
        "from IPython.display import display, HTML"
      ],
      "metadata": {
        "id": "K0SWgjxMQJvf"
      },
      "execution_count": null,
      "outputs": []
    },
    {
      "cell_type": "code",
      "source": [
        "import pandas as pd\n",
        "import numpy as np\n",
        "from sklearn.metrics import r2_score, mean_absolute_error\n",
        "\n",
        "def compare_models(models_results, highlight=True):\n",
        "    rows = []\n",
        "    for model in models_results:\n",
        "        name = model[\"name\"]\n",
        "        y_true = np.asarray(model[\"y_true\"])\n",
        "        y_pred = np.asarray(model[\"y_pred\"])\n",
        "        r2 = r2_score(y_true, y_pred)\n",
        "        mae = mean_absolute_error(y_true, y_pred)\n",
        "        mask = y_true != 0\n",
        "        if mask.any():\n",
        "            mape = (np.abs((y_true[mask] - y_pred[mask]) / y_true[mask]).mean()) * 100\n",
        "        else:\n",
        "            mape = float(\"nan\")\n",
        "        rows.append({\"Model\": name, \"R2\": r2, \"MAE\": mae, \"MAPE(%)\": mape})\n",
        "    df = pd.DataFrame(rows)\n",
        "\n",
        "    best_r2 = df[\"R2\"].idxmax()\n",
        "    best_mae = df[\"MAE\"].idxmin()\n",
        "    best_mape = df[\"MAPE(%)\"].idxmin()\n",
        "    df[\"Winner\"] = \"\"\n",
        "    df.loc[best_r2, \"Winner\"] += \"R2 \"\n",
        "    df.loc[best_mae, \"Winner\"] += \"MAE \"\n",
        "    df.loc[best_mape, \"Winner\"] += \"MAPE\"\n",
        "    df[\"Winner\"] = df[\"Winner\"].str.strip()\n",
        "\n",
        "    if not highlight:\n",
        "        print(df.to_string(index=False))\n",
        "        return df\n",
        "\n",
        "    def highlight_best(s):\n",
        "        color = 'background-color: #c6efce'\n",
        "        default = ''\n",
        "        result = [default] * len(s)\n",
        "        if s.name == 'R2':\n",
        "            result[df[\"R2\"].idxmax()] = color\n",
        "        elif s.name == 'MAE':\n",
        "            result[df[\"MAE\"].idxmin()] = color\n",
        "        elif s.name == 'MAPE(%)':\n",
        "            result[df[\"MAPE(%)\"].idxmin()] = color\n",
        "        return result\n",
        "\n",
        "    styled = df.style.format({\"R2\": \"{:.3f}\", \"MAE\": \"{:.3f}\", \"MAPE(%)\": \"{:.2f}\"}).apply(highlight_best)\n",
        "    display(styled)\n",
        "    return df\n"
      ],
      "metadata": {
        "id": "LAcGv_h-EYm-"
      },
      "execution_count": 204,
      "outputs": []
    },
    {
      "cell_type": "code",
      "source": [
        "for acid in all_acids:\n",
        "  res = train_and_evaluate(X, Y, acid)\n",
        "  print(f'{acid.capitalize()}:')\n",
        "  compare_models([\n",
        "    {\"name\": \"LinearRegression\", \"y_true\": res[\"y_test\"], \"y_pred\": res[\"y_pred_model\"]},\n",
        "    {\"name\": \"Baseline(mean)\", \"y_true\": res[\"y_test\"], \"y_pred\": res[\"y_pred_baseline\"]}\n",
        "])\n",
        "  print()"
      ],
      "metadata": {
        "colab": {
          "base_uri": "https://localhost:8080/",
          "height": 1000
        },
        "id": "jLOkytmrPqQF",
        "outputId": "ec380519-2184-4e36-dd01-29d3c43a5b7e"
      },
      "execution_count": 211,
      "outputs": [
        {
          "output_type": "stream",
          "name": "stdout",
          "text": [
            "Масляная:\n"
          ]
        },
        {
          "output_type": "display_data",
          "data": {
            "text/plain": [
              "<pandas.io.formats.style.Styler at 0x7da703cc4d70>"
            ],
            "text/html": [
              "<style type=\"text/css\">\n",
              "#T_75c2f_row0_col1, #T_75c2f_row0_col2, #T_75c2f_row0_col3 {\n",
              "  background-color: #c6efce;\n",
              "}\n",
              "</style>\n",
              "<table id=\"T_75c2f\" class=\"dataframe\">\n",
              "  <thead>\n",
              "    <tr>\n",
              "      <th class=\"blank level0\" >&nbsp;</th>\n",
              "      <th id=\"T_75c2f_level0_col0\" class=\"col_heading level0 col0\" >Model</th>\n",
              "      <th id=\"T_75c2f_level0_col1\" class=\"col_heading level0 col1\" >R2</th>\n",
              "      <th id=\"T_75c2f_level0_col2\" class=\"col_heading level0 col2\" >MAE</th>\n",
              "      <th id=\"T_75c2f_level0_col3\" class=\"col_heading level0 col3\" >MAPE(%)</th>\n",
              "      <th id=\"T_75c2f_level0_col4\" class=\"col_heading level0 col4\" >Winner</th>\n",
              "    </tr>\n",
              "  </thead>\n",
              "  <tbody>\n",
              "    <tr>\n",
              "      <th id=\"T_75c2f_level0_row0\" class=\"row_heading level0 row0\" >0</th>\n",
              "      <td id=\"T_75c2f_row0_col0\" class=\"data row0 col0\" >LinearRegression</td>\n",
              "      <td id=\"T_75c2f_row0_col1\" class=\"data row0 col1\" >0.405</td>\n",
              "      <td id=\"T_75c2f_row0_col2\" class=\"data row0 col2\" >0.279</td>\n",
              "      <td id=\"T_75c2f_row0_col3\" class=\"data row0 col3\" >9.25</td>\n",
              "      <td id=\"T_75c2f_row0_col4\" class=\"data row0 col4\" >R2 MAE MAPE</td>\n",
              "    </tr>\n",
              "    <tr>\n",
              "      <th id=\"T_75c2f_level0_row1\" class=\"row_heading level0 row1\" >1</th>\n",
              "      <td id=\"T_75c2f_row1_col0\" class=\"data row1 col0\" >Baseline(mean)</td>\n",
              "      <td id=\"T_75c2f_row1_col1\" class=\"data row1 col1\" >-0.005</td>\n",
              "      <td id=\"T_75c2f_row1_col2\" class=\"data row1 col2\" >0.311</td>\n",
              "      <td id=\"T_75c2f_row1_col3\" class=\"data row1 col3\" >9.98</td>\n",
              "      <td id=\"T_75c2f_row1_col4\" class=\"data row1 col4\" ></td>\n",
              "    </tr>\n",
              "  </tbody>\n",
              "</table>\n"
            ]
          },
          "metadata": {}
        },
        {
          "output_type": "stream",
          "name": "stdout",
          "text": [
            "\n",
            "Капроновая:\n"
          ]
        },
        {
          "output_type": "display_data",
          "data": {
            "text/plain": [
              "<pandas.io.formats.style.Styler at 0x7da703b300b0>"
            ],
            "text/html": [
              "<style type=\"text/css\">\n",
              "#T_b5faf_row1_col1, #T_b5faf_row1_col2, #T_b5faf_row1_col3 {\n",
              "  background-color: #c6efce;\n",
              "}\n",
              "</style>\n",
              "<table id=\"T_b5faf\" class=\"dataframe\">\n",
              "  <thead>\n",
              "    <tr>\n",
              "      <th class=\"blank level0\" >&nbsp;</th>\n",
              "      <th id=\"T_b5faf_level0_col0\" class=\"col_heading level0 col0\" >Model</th>\n",
              "      <th id=\"T_b5faf_level0_col1\" class=\"col_heading level0 col1\" >R2</th>\n",
              "      <th id=\"T_b5faf_level0_col2\" class=\"col_heading level0 col2\" >MAE</th>\n",
              "      <th id=\"T_b5faf_level0_col3\" class=\"col_heading level0 col3\" >MAPE(%)</th>\n",
              "      <th id=\"T_b5faf_level0_col4\" class=\"col_heading level0 col4\" >Winner</th>\n",
              "    </tr>\n",
              "  </thead>\n",
              "  <tbody>\n",
              "    <tr>\n",
              "      <th id=\"T_b5faf_level0_row0\" class=\"row_heading level0 row0\" >0</th>\n",
              "      <td id=\"T_b5faf_row0_col0\" class=\"data row0 col0\" >LinearRegression</td>\n",
              "      <td id=\"T_b5faf_row0_col1\" class=\"data row0 col1\" >-0.664</td>\n",
              "      <td id=\"T_b5faf_row0_col2\" class=\"data row0 col2\" >0.150</td>\n",
              "      <td id=\"T_b5faf_row0_col3\" class=\"data row0 col3\" >7.54</td>\n",
              "      <td id=\"T_b5faf_row0_col4\" class=\"data row0 col4\" ></td>\n",
              "    </tr>\n",
              "    <tr>\n",
              "      <th id=\"T_b5faf_level0_row1\" class=\"row_heading level0 row1\" >1</th>\n",
              "      <td id=\"T_b5faf_row1_col0\" class=\"data row1 col0\" >Baseline(mean)</td>\n",
              "      <td id=\"T_b5faf_row1_col1\" class=\"data row1 col1\" >-0.609</td>\n",
              "      <td id=\"T_b5faf_row1_col2\" class=\"data row1 col2\" >0.136</td>\n",
              "      <td id=\"T_b5faf_row1_col3\" class=\"data row1 col3\" >6.92</td>\n",
              "      <td id=\"T_b5faf_row1_col4\" class=\"data row1 col4\" >R2 MAE MAPE</td>\n",
              "    </tr>\n",
              "  </tbody>\n",
              "</table>\n"
            ]
          },
          "metadata": {}
        },
        {
          "output_type": "stream",
          "name": "stdout",
          "text": [
            "\n",
            "Каприловая:\n"
          ]
        },
        {
          "output_type": "display_data",
          "data": {
            "text/plain": [
              "<pandas.io.formats.style.Styler at 0x7da703cc4d70>"
            ],
            "text/html": [
              "<style type=\"text/css\">\n",
              "#T_02445_row0_col1, #T_02445_row0_col2, #T_02445_row0_col3 {\n",
              "  background-color: #c6efce;\n",
              "}\n",
              "</style>\n",
              "<table id=\"T_02445\" class=\"dataframe\">\n",
              "  <thead>\n",
              "    <tr>\n",
              "      <th class=\"blank level0\" >&nbsp;</th>\n",
              "      <th id=\"T_02445_level0_col0\" class=\"col_heading level0 col0\" >Model</th>\n",
              "      <th id=\"T_02445_level0_col1\" class=\"col_heading level0 col1\" >R2</th>\n",
              "      <th id=\"T_02445_level0_col2\" class=\"col_heading level0 col2\" >MAE</th>\n",
              "      <th id=\"T_02445_level0_col3\" class=\"col_heading level0 col3\" >MAPE(%)</th>\n",
              "      <th id=\"T_02445_level0_col4\" class=\"col_heading level0 col4\" >Winner</th>\n",
              "    </tr>\n",
              "  </thead>\n",
              "  <tbody>\n",
              "    <tr>\n",
              "      <th id=\"T_02445_level0_row0\" class=\"row_heading level0 row0\" >0</th>\n",
              "      <td id=\"T_02445_row0_col0\" class=\"data row0 col0\" >LinearRegression</td>\n",
              "      <td id=\"T_02445_row0_col1\" class=\"data row0 col1\" >0.111</td>\n",
              "      <td id=\"T_02445_row0_col2\" class=\"data row0 col2\" >0.089</td>\n",
              "      <td id=\"T_02445_row0_col3\" class=\"data row0 col3\" >7.73</td>\n",
              "      <td id=\"T_02445_row0_col4\" class=\"data row0 col4\" >R2 MAE MAPE</td>\n",
              "    </tr>\n",
              "    <tr>\n",
              "      <th id=\"T_02445_level0_row1\" class=\"row_heading level0 row1\" >1</th>\n",
              "      <td id=\"T_02445_row1_col0\" class=\"data row1 col0\" >Baseline(mean)</td>\n",
              "      <td id=\"T_02445_row1_col1\" class=\"data row1 col1\" >-0.659</td>\n",
              "      <td id=\"T_02445_row1_col2\" class=\"data row1 col2\" >0.102</td>\n",
              "      <td id=\"T_02445_row1_col3\" class=\"data row1 col3\" >9.33</td>\n",
              "      <td id=\"T_02445_row1_col4\" class=\"data row1 col4\" ></td>\n",
              "    </tr>\n",
              "  </tbody>\n",
              "</table>\n"
            ]
          },
          "metadata": {}
        },
        {
          "output_type": "stream",
          "name": "stdout",
          "text": [
            "\n",
            "Каприновая:\n"
          ]
        },
        {
          "output_type": "display_data",
          "data": {
            "text/plain": [
              "<pandas.io.formats.style.Styler at 0x7da703b32540>"
            ],
            "text/html": [
              "<style type=\"text/css\">\n",
              "#T_9fc75_row0_col1, #T_9fc75_row0_col2, #T_9fc75_row0_col3 {\n",
              "  background-color: #c6efce;\n",
              "}\n",
              "</style>\n",
              "<table id=\"T_9fc75\" class=\"dataframe\">\n",
              "  <thead>\n",
              "    <tr>\n",
              "      <th class=\"blank level0\" >&nbsp;</th>\n",
              "      <th id=\"T_9fc75_level0_col0\" class=\"col_heading level0 col0\" >Model</th>\n",
              "      <th id=\"T_9fc75_level0_col1\" class=\"col_heading level0 col1\" >R2</th>\n",
              "      <th id=\"T_9fc75_level0_col2\" class=\"col_heading level0 col2\" >MAE</th>\n",
              "      <th id=\"T_9fc75_level0_col3\" class=\"col_heading level0 col3\" >MAPE(%)</th>\n",
              "      <th id=\"T_9fc75_level0_col4\" class=\"col_heading level0 col4\" >Winner</th>\n",
              "    </tr>\n",
              "  </thead>\n",
              "  <tbody>\n",
              "    <tr>\n",
              "      <th id=\"T_9fc75_level0_row0\" class=\"row_heading level0 row0\" >0</th>\n",
              "      <td id=\"T_9fc75_row0_col0\" class=\"data row0 col0\" >LinearRegression</td>\n",
              "      <td id=\"T_9fc75_row0_col1\" class=\"data row0 col1\" >0.404</td>\n",
              "      <td id=\"T_9fc75_row0_col2\" class=\"data row0 col2\" >0.268</td>\n",
              "      <td id=\"T_9fc75_row0_col3\" class=\"data row0 col3\" >10.28</td>\n",
              "      <td id=\"T_9fc75_row0_col4\" class=\"data row0 col4\" >R2 MAE MAPE</td>\n",
              "    </tr>\n",
              "    <tr>\n",
              "      <th id=\"T_9fc75_level0_row1\" class=\"row_heading level0 row1\" >1</th>\n",
              "      <td id=\"T_9fc75_row1_col0\" class=\"data row1 col0\" >Baseline(mean)</td>\n",
              "      <td id=\"T_9fc75_row1_col1\" class=\"data row1 col1\" >-0.505</td>\n",
              "      <td id=\"T_9fc75_row1_col2\" class=\"data row1 col2\" >0.370</td>\n",
              "      <td id=\"T_9fc75_row1_col3\" class=\"data row1 col3\" >15.67</td>\n",
              "      <td id=\"T_9fc75_row1_col4\" class=\"data row1 col4\" ></td>\n",
              "    </tr>\n",
              "  </tbody>\n",
              "</table>\n"
            ]
          },
          "metadata": {}
        },
        {
          "output_type": "stream",
          "name": "stdout",
          "text": [
            "\n",
            "Деценовая:\n"
          ]
        },
        {
          "output_type": "display_data",
          "data": {
            "text/plain": [
              "<pandas.io.formats.style.Styler at 0x7da702e288c0>"
            ],
            "text/html": [
              "<style type=\"text/css\">\n",
              "#T_773e3_row1_col1, #T_773e3_row1_col2, #T_773e3_row1_col3 {\n",
              "  background-color: #c6efce;\n",
              "}\n",
              "</style>\n",
              "<table id=\"T_773e3\" class=\"dataframe\">\n",
              "  <thead>\n",
              "    <tr>\n",
              "      <th class=\"blank level0\" >&nbsp;</th>\n",
              "      <th id=\"T_773e3_level0_col0\" class=\"col_heading level0 col0\" >Model</th>\n",
              "      <th id=\"T_773e3_level0_col1\" class=\"col_heading level0 col1\" >R2</th>\n",
              "      <th id=\"T_773e3_level0_col2\" class=\"col_heading level0 col2\" >MAE</th>\n",
              "      <th id=\"T_773e3_level0_col3\" class=\"col_heading level0 col3\" >MAPE(%)</th>\n",
              "      <th id=\"T_773e3_level0_col4\" class=\"col_heading level0 col4\" >Winner</th>\n",
              "    </tr>\n",
              "  </thead>\n",
              "  <tbody>\n",
              "    <tr>\n",
              "      <th id=\"T_773e3_level0_row0\" class=\"row_heading level0 row0\" >0</th>\n",
              "      <td id=\"T_773e3_row0_col0\" class=\"data row0 col0\" >LinearRegression</td>\n",
              "      <td id=\"T_773e3_row0_col1\" class=\"data row0 col1\" >-0.312</td>\n",
              "      <td id=\"T_773e3_row0_col2\" class=\"data row0 col2\" >0.028</td>\n",
              "      <td id=\"T_773e3_row0_col3\" class=\"data row0 col3\" >12.52</td>\n",
              "      <td id=\"T_773e3_row0_col4\" class=\"data row0 col4\" ></td>\n",
              "    </tr>\n",
              "    <tr>\n",
              "      <th id=\"T_773e3_level0_row1\" class=\"row_heading level0 row1\" >1</th>\n",
              "      <td id=\"T_773e3_row1_col0\" class=\"data row1 col0\" >Baseline(mean)</td>\n",
              "      <td id=\"T_773e3_row1_col1\" class=\"data row1 col1\" >-0.027</td>\n",
              "      <td id=\"T_773e3_row1_col2\" class=\"data row1 col2\" >0.026</td>\n",
              "      <td id=\"T_773e3_row1_col3\" class=\"data row1 col3\" >11.74</td>\n",
              "      <td id=\"T_773e3_row1_col4\" class=\"data row1 col4\" >R2 MAE MAPE</td>\n",
              "    </tr>\n",
              "  </tbody>\n",
              "</table>\n"
            ]
          },
          "metadata": {}
        },
        {
          "output_type": "stream",
          "name": "stdout",
          "text": [
            "\n",
            "Лауриновая:\n"
          ]
        },
        {
          "output_type": "display_data",
          "data": {
            "text/plain": [
              "<pandas.io.formats.style.Styler at 0x7da7006ebe00>"
            ],
            "text/html": [
              "<style type=\"text/css\">\n",
              "#T_70842_row0_col1, #T_70842_row0_col2, #T_70842_row0_col3 {\n",
              "  background-color: #c6efce;\n",
              "}\n",
              "</style>\n",
              "<table id=\"T_70842\" class=\"dataframe\">\n",
              "  <thead>\n",
              "    <tr>\n",
              "      <th class=\"blank level0\" >&nbsp;</th>\n",
              "      <th id=\"T_70842_level0_col0\" class=\"col_heading level0 col0\" >Model</th>\n",
              "      <th id=\"T_70842_level0_col1\" class=\"col_heading level0 col1\" >R2</th>\n",
              "      <th id=\"T_70842_level0_col2\" class=\"col_heading level0 col2\" >MAE</th>\n",
              "      <th id=\"T_70842_level0_col3\" class=\"col_heading level0 col3\" >MAPE(%)</th>\n",
              "      <th id=\"T_70842_level0_col4\" class=\"col_heading level0 col4\" >Winner</th>\n",
              "    </tr>\n",
              "  </thead>\n",
              "  <tbody>\n",
              "    <tr>\n",
              "      <th id=\"T_70842_level0_row0\" class=\"row_heading level0 row0\" >0</th>\n",
              "      <td id=\"T_70842_row0_col0\" class=\"data row0 col0\" >LinearRegression</td>\n",
              "      <td id=\"T_70842_row0_col1\" class=\"data row0 col1\" >0.385</td>\n",
              "      <td id=\"T_70842_row0_col2\" class=\"data row0 col2\" >0.373</td>\n",
              "      <td id=\"T_70842_row0_col3\" class=\"data row0 col3\" >12.57</td>\n",
              "      <td id=\"T_70842_row0_col4\" class=\"data row0 col4\" >R2 MAE MAPE</td>\n",
              "    </tr>\n",
              "    <tr>\n",
              "      <th id=\"T_70842_level0_row1\" class=\"row_heading level0 row1\" >1</th>\n",
              "      <td id=\"T_70842_row1_col0\" class=\"data row1 col0\" >Baseline(mean)</td>\n",
              "      <td id=\"T_70842_row1_col1\" class=\"data row1 col1\" >-0.543</td>\n",
              "      <td id=\"T_70842_row1_col2\" class=\"data row1 col2\" >0.539</td>\n",
              "      <td id=\"T_70842_row1_col3\" class=\"data row1 col3\" >20.34</td>\n",
              "      <td id=\"T_70842_row1_col4\" class=\"data row1 col4\" ></td>\n",
              "    </tr>\n",
              "  </tbody>\n",
              "</table>\n"
            ]
          },
          "metadata": {}
        },
        {
          "output_type": "stream",
          "name": "stdout",
          "text": [
            "\n",
            "Миристиновая:\n"
          ]
        },
        {
          "output_type": "display_data",
          "data": {
            "text/plain": [
              "<pandas.io.formats.style.Styler at 0x7da703b32000>"
            ],
            "text/html": [
              "<style type=\"text/css\">\n",
              "#T_c90a1_row0_col1, #T_c90a1_row0_col2, #T_c90a1_row0_col3 {\n",
              "  background-color: #c6efce;\n",
              "}\n",
              "</style>\n",
              "<table id=\"T_c90a1\" class=\"dataframe\">\n",
              "  <thead>\n",
              "    <tr>\n",
              "      <th class=\"blank level0\" >&nbsp;</th>\n",
              "      <th id=\"T_c90a1_level0_col0\" class=\"col_heading level0 col0\" >Model</th>\n",
              "      <th id=\"T_c90a1_level0_col1\" class=\"col_heading level0 col1\" >R2</th>\n",
              "      <th id=\"T_c90a1_level0_col2\" class=\"col_heading level0 col2\" >MAE</th>\n",
              "      <th id=\"T_c90a1_level0_col3\" class=\"col_heading level0 col3\" >MAPE(%)</th>\n",
              "      <th id=\"T_c90a1_level0_col4\" class=\"col_heading level0 col4\" >Winner</th>\n",
              "    </tr>\n",
              "  </thead>\n",
              "  <tbody>\n",
              "    <tr>\n",
              "      <th id=\"T_c90a1_level0_row0\" class=\"row_heading level0 row0\" >0</th>\n",
              "      <td id=\"T_c90a1_row0_col0\" class=\"data row0 col0\" >LinearRegression</td>\n",
              "      <td id=\"T_c90a1_row0_col1\" class=\"data row0 col1\" >0.467</td>\n",
              "      <td id=\"T_c90a1_row0_col2\" class=\"data row0 col2\" >0.766</td>\n",
              "      <td id=\"T_c90a1_row0_col3\" class=\"data row0 col3\" >8.27</td>\n",
              "      <td id=\"T_c90a1_row0_col4\" class=\"data row0 col4\" >R2 MAE MAPE</td>\n",
              "    </tr>\n",
              "    <tr>\n",
              "      <th id=\"T_c90a1_level0_row1\" class=\"row_heading level0 row1\" >1</th>\n",
              "      <td id=\"T_c90a1_row1_col0\" class=\"data row1 col0\" >Baseline(mean)</td>\n",
              "      <td id=\"T_c90a1_row1_col1\" class=\"data row1 col1\" >-0.315</td>\n",
              "      <td id=\"T_c90a1_row1_col2\" class=\"data row1 col2\" >1.006</td>\n",
              "      <td id=\"T_c90a1_row1_col3\" class=\"data row1 col3\" >11.87</td>\n",
              "      <td id=\"T_c90a1_row1_col4\" class=\"data row1 col4\" ></td>\n",
              "    </tr>\n",
              "  </tbody>\n",
              "</table>\n"
            ]
          },
          "metadata": {}
        },
        {
          "output_type": "stream",
          "name": "stdout",
          "text": [
            "\n",
            "Миристолеиновая:\n"
          ]
        },
        {
          "output_type": "display_data",
          "data": {
            "text/plain": [
              "<pandas.io.formats.style.Styler at 0x7da701f550d0>"
            ],
            "text/html": [
              "<style type=\"text/css\">\n",
              "#T_6e4c1_row0_col1, #T_6e4c1_row0_col2, #T_6e4c1_row0_col3 {\n",
              "  background-color: #c6efce;\n",
              "}\n",
              "</style>\n",
              "<table id=\"T_6e4c1\" class=\"dataframe\">\n",
              "  <thead>\n",
              "    <tr>\n",
              "      <th class=\"blank level0\" >&nbsp;</th>\n",
              "      <th id=\"T_6e4c1_level0_col0\" class=\"col_heading level0 col0\" >Model</th>\n",
              "      <th id=\"T_6e4c1_level0_col1\" class=\"col_heading level0 col1\" >R2</th>\n",
              "      <th id=\"T_6e4c1_level0_col2\" class=\"col_heading level0 col2\" >MAE</th>\n",
              "      <th id=\"T_6e4c1_level0_col3\" class=\"col_heading level0 col3\" >MAPE(%)</th>\n",
              "      <th id=\"T_6e4c1_level0_col4\" class=\"col_heading level0 col4\" >Winner</th>\n",
              "    </tr>\n",
              "  </thead>\n",
              "  <tbody>\n",
              "    <tr>\n",
              "      <th id=\"T_6e4c1_level0_row0\" class=\"row_heading level0 row0\" >0</th>\n",
              "      <td id=\"T_6e4c1_row0_col0\" class=\"data row0 col0\" >LinearRegression</td>\n",
              "      <td id=\"T_6e4c1_row0_col1\" class=\"data row0 col1\" >0.480</td>\n",
              "      <td id=\"T_6e4c1_row0_col2\" class=\"data row0 col2\" >0.099</td>\n",
              "      <td id=\"T_6e4c1_row0_col3\" class=\"data row0 col3\" >14.10</td>\n",
              "      <td id=\"T_6e4c1_row0_col4\" class=\"data row0 col4\" >R2 MAE MAPE</td>\n",
              "    </tr>\n",
              "    <tr>\n",
              "      <th id=\"T_6e4c1_level0_row1\" class=\"row_heading level0 row1\" >1</th>\n",
              "      <td id=\"T_6e4c1_row1_col0\" class=\"data row1 col0\" >Baseline(mean)</td>\n",
              "      <td id=\"T_6e4c1_row1_col1\" class=\"data row1 col1\" >-0.154</td>\n",
              "      <td id=\"T_6e4c1_row1_col2\" class=\"data row1 col2\" >0.126</td>\n",
              "      <td id=\"T_6e4c1_row1_col3\" class=\"data row1 col3\" >21.55</td>\n",
              "      <td id=\"T_6e4c1_row1_col4\" class=\"data row1 col4\" ></td>\n",
              "    </tr>\n",
              "  </tbody>\n",
              "</table>\n"
            ]
          },
          "metadata": {}
        },
        {
          "output_type": "stream",
          "name": "stdout",
          "text": [
            "\n",
            "Пальмитиновая:\n"
          ]
        },
        {
          "output_type": "display_data",
          "data": {
            "text/plain": [
              "<pandas.io.formats.style.Styler at 0x7da70080a0c0>"
            ],
            "text/html": [
              "<style type=\"text/css\">\n",
              "#T_45e11_row0_col1, #T_45e11_row0_col3, #T_45e11_row1_col2 {\n",
              "  background-color: #c6efce;\n",
              "}\n",
              "</style>\n",
              "<table id=\"T_45e11\" class=\"dataframe\">\n",
              "  <thead>\n",
              "    <tr>\n",
              "      <th class=\"blank level0\" >&nbsp;</th>\n",
              "      <th id=\"T_45e11_level0_col0\" class=\"col_heading level0 col0\" >Model</th>\n",
              "      <th id=\"T_45e11_level0_col1\" class=\"col_heading level0 col1\" >R2</th>\n",
              "      <th id=\"T_45e11_level0_col2\" class=\"col_heading level0 col2\" >MAE</th>\n",
              "      <th id=\"T_45e11_level0_col3\" class=\"col_heading level0 col3\" >MAPE(%)</th>\n",
              "      <th id=\"T_45e11_level0_col4\" class=\"col_heading level0 col4\" >Winner</th>\n",
              "    </tr>\n",
              "  </thead>\n",
              "  <tbody>\n",
              "    <tr>\n",
              "      <th id=\"T_45e11_level0_row0\" class=\"row_heading level0 row0\" >0</th>\n",
              "      <td id=\"T_45e11_row0_col0\" class=\"data row0 col0\" >LinearRegression</td>\n",
              "      <td id=\"T_45e11_row0_col1\" class=\"data row0 col1\" >0.088</td>\n",
              "      <td id=\"T_45e11_row0_col2\" class=\"data row0 col2\" >1.901</td>\n",
              "      <td id=\"T_45e11_row0_col3\" class=\"data row0 col3\" >6.29</td>\n",
              "      <td id=\"T_45e11_row0_col4\" class=\"data row0 col4\" >R2 MAPE</td>\n",
              "    </tr>\n",
              "    <tr>\n",
              "      <th id=\"T_45e11_level0_row1\" class=\"row_heading level0 row1\" >1</th>\n",
              "      <td id=\"T_45e11_row1_col0\" class=\"data row1 col0\" >Baseline(mean)</td>\n",
              "      <td id=\"T_45e11_row1_col1\" class=\"data row1 col1\" >-0.037</td>\n",
              "      <td id=\"T_45e11_row1_col2\" class=\"data row1 col2\" >1.871</td>\n",
              "      <td id=\"T_45e11_row1_col3\" class=\"data row1 col3\" >6.33</td>\n",
              "      <td id=\"T_45e11_row1_col4\" class=\"data row1 col4\" >MAE</td>\n",
              "    </tr>\n",
              "  </tbody>\n",
              "</table>\n"
            ]
          },
          "metadata": {}
        },
        {
          "output_type": "stream",
          "name": "stdout",
          "text": [
            "\n",
            "Пальмитолеиновая:\n"
          ]
        },
        {
          "output_type": "display_data",
          "data": {
            "text/plain": [
              "<pandas.io.formats.style.Styler at 0x7da703c96810>"
            ],
            "text/html": [
              "<style type=\"text/css\">\n",
              "#T_f70e0_row0_col1, #T_f70e0_row0_col2, #T_f70e0_row0_col3 {\n",
              "  background-color: #c6efce;\n",
              "}\n",
              "</style>\n",
              "<table id=\"T_f70e0\" class=\"dataframe\">\n",
              "  <thead>\n",
              "    <tr>\n",
              "      <th class=\"blank level0\" >&nbsp;</th>\n",
              "      <th id=\"T_f70e0_level0_col0\" class=\"col_heading level0 col0\" >Model</th>\n",
              "      <th id=\"T_f70e0_level0_col1\" class=\"col_heading level0 col1\" >R2</th>\n",
              "      <th id=\"T_f70e0_level0_col2\" class=\"col_heading level0 col2\" >MAE</th>\n",
              "      <th id=\"T_f70e0_level0_col3\" class=\"col_heading level0 col3\" >MAPE(%)</th>\n",
              "      <th id=\"T_f70e0_level0_col4\" class=\"col_heading level0 col4\" >Winner</th>\n",
              "    </tr>\n",
              "  </thead>\n",
              "  <tbody>\n",
              "    <tr>\n",
              "      <th id=\"T_f70e0_level0_row0\" class=\"row_heading level0 row0\" >0</th>\n",
              "      <td id=\"T_f70e0_row0_col0\" class=\"data row0 col0\" >LinearRegression</td>\n",
              "      <td id=\"T_f70e0_row0_col1\" class=\"data row0 col1\" >0.193</td>\n",
              "      <td id=\"T_f70e0_row0_col2\" class=\"data row0 col2\" >0.166</td>\n",
              "      <td id=\"T_f70e0_row0_col3\" class=\"data row0 col3\" >7.74</td>\n",
              "      <td id=\"T_f70e0_row0_col4\" class=\"data row0 col4\" >R2 MAE MAPE</td>\n",
              "    </tr>\n",
              "    <tr>\n",
              "      <th id=\"T_f70e0_level0_row1\" class=\"row_heading level0 row1\" >1</th>\n",
              "      <td id=\"T_f70e0_row1_col0\" class=\"data row1 col0\" >Baseline(mean)</td>\n",
              "      <td id=\"T_f70e0_row1_col1\" class=\"data row1 col1\" >-0.002</td>\n",
              "      <td id=\"T_f70e0_row1_col2\" class=\"data row1 col2\" >0.184</td>\n",
              "      <td id=\"T_f70e0_row1_col3\" class=\"data row1 col3\" >8.71</td>\n",
              "      <td id=\"T_f70e0_row1_col4\" class=\"data row1 col4\" ></td>\n",
              "    </tr>\n",
              "  </tbody>\n",
              "</table>\n"
            ]
          },
          "metadata": {}
        },
        {
          "output_type": "stream",
          "name": "stdout",
          "text": [
            "\n",
            "Стеариновая:\n"
          ]
        },
        {
          "output_type": "display_data",
          "data": {
            "text/plain": [
              "<pandas.io.formats.style.Styler at 0x7da701f546b0>"
            ],
            "text/html": [
              "<style type=\"text/css\">\n",
              "#T_6e473_row0_col1, #T_6e473_row0_col2, #T_6e473_row0_col3 {\n",
              "  background-color: #c6efce;\n",
              "}\n",
              "</style>\n",
              "<table id=\"T_6e473\" class=\"dataframe\">\n",
              "  <thead>\n",
              "    <tr>\n",
              "      <th class=\"blank level0\" >&nbsp;</th>\n",
              "      <th id=\"T_6e473_level0_col0\" class=\"col_heading level0 col0\" >Model</th>\n",
              "      <th id=\"T_6e473_level0_col1\" class=\"col_heading level0 col1\" >R2</th>\n",
              "      <th id=\"T_6e473_level0_col2\" class=\"col_heading level0 col2\" >MAE</th>\n",
              "      <th id=\"T_6e473_level0_col3\" class=\"col_heading level0 col3\" >MAPE(%)</th>\n",
              "      <th id=\"T_6e473_level0_col4\" class=\"col_heading level0 col4\" >Winner</th>\n",
              "    </tr>\n",
              "  </thead>\n",
              "  <tbody>\n",
              "    <tr>\n",
              "      <th id=\"T_6e473_level0_row0\" class=\"row_heading level0 row0\" >0</th>\n",
              "      <td id=\"T_6e473_row0_col0\" class=\"data row0 col0\" >LinearRegression</td>\n",
              "      <td id=\"T_6e473_row0_col1\" class=\"data row0 col1\" >0.383</td>\n",
              "      <td id=\"T_6e473_row0_col2\" class=\"data row0 col2\" >1.059</td>\n",
              "      <td id=\"T_6e473_row0_col3\" class=\"data row0 col3\" >10.92</td>\n",
              "      <td id=\"T_6e473_row0_col4\" class=\"data row0 col4\" >R2 MAE MAPE</td>\n",
              "    </tr>\n",
              "    <tr>\n",
              "      <th id=\"T_6e473_level0_row1\" class=\"row_heading level0 row1\" >1</th>\n",
              "      <td id=\"T_6e473_row1_col0\" class=\"data row1 col0\" >Baseline(mean)</td>\n",
              "      <td id=\"T_6e473_row1_col1\" class=\"data row1 col1\" >-0.240</td>\n",
              "      <td id=\"T_6e473_row1_col2\" class=\"data row1 col2\" >1.263</td>\n",
              "      <td id=\"T_6e473_row1_col3\" class=\"data row1 col3\" >12.18</td>\n",
              "      <td id=\"T_6e473_row1_col4\" class=\"data row1 col4\" ></td>\n",
              "    </tr>\n",
              "  </tbody>\n",
              "</table>\n"
            ]
          },
          "metadata": {}
        },
        {
          "output_type": "stream",
          "name": "stdout",
          "text": [
            "\n",
            "Олеиновая:\n"
          ]
        },
        {
          "output_type": "display_data",
          "data": {
            "text/plain": [
              "<pandas.io.formats.style.Styler at 0x7da70008a7b0>"
            ],
            "text/html": [
              "<style type=\"text/css\">\n",
              "#T_04e18_row0_col1, #T_04e18_row0_col2, #T_04e18_row0_col3 {\n",
              "  background-color: #c6efce;\n",
              "}\n",
              "</style>\n",
              "<table id=\"T_04e18\" class=\"dataframe\">\n",
              "  <thead>\n",
              "    <tr>\n",
              "      <th class=\"blank level0\" >&nbsp;</th>\n",
              "      <th id=\"T_04e18_level0_col0\" class=\"col_heading level0 col0\" >Model</th>\n",
              "      <th id=\"T_04e18_level0_col1\" class=\"col_heading level0 col1\" >R2</th>\n",
              "      <th id=\"T_04e18_level0_col2\" class=\"col_heading level0 col2\" >MAE</th>\n",
              "      <th id=\"T_04e18_level0_col3\" class=\"col_heading level0 col3\" >MAPE(%)</th>\n",
              "      <th id=\"T_04e18_level0_col4\" class=\"col_heading level0 col4\" >Winner</th>\n",
              "    </tr>\n",
              "  </thead>\n",
              "  <tbody>\n",
              "    <tr>\n",
              "      <th id=\"T_04e18_level0_row0\" class=\"row_heading level0 row0\" >0</th>\n",
              "      <td id=\"T_04e18_row0_col0\" class=\"data row0 col0\" >LinearRegression</td>\n",
              "      <td id=\"T_04e18_row0_col1\" class=\"data row0 col1\" >0.490</td>\n",
              "      <td id=\"T_04e18_row0_col2\" class=\"data row0 col2\" >1.882</td>\n",
              "      <td id=\"T_04e18_row0_col3\" class=\"data row0 col3\" >7.52</td>\n",
              "      <td id=\"T_04e18_row0_col4\" class=\"data row0 col4\" >R2 MAE MAPE</td>\n",
              "    </tr>\n",
              "    <tr>\n",
              "      <th id=\"T_04e18_level0_row1\" class=\"row_heading level0 row1\" >1</th>\n",
              "      <td id=\"T_04e18_row1_col0\" class=\"data row1 col0\" >Baseline(mean)</td>\n",
              "      <td id=\"T_04e18_row1_col1\" class=\"data row1 col1\" >-0.258</td>\n",
              "      <td id=\"T_04e18_row1_col2\" class=\"data row1 col2\" >2.423</td>\n",
              "      <td id=\"T_04e18_row1_col3\" class=\"data row1 col3\" >9.04</td>\n",
              "      <td id=\"T_04e18_row1_col4\" class=\"data row1 col4\" ></td>\n",
              "    </tr>\n",
              "  </tbody>\n",
              "</table>\n"
            ]
          },
          "metadata": {}
        },
        {
          "output_type": "stream",
          "name": "stdout",
          "text": [
            "\n",
            "Линолевая:\n"
          ]
        },
        {
          "output_type": "display_data",
          "data": {
            "text/plain": [
              "<pandas.io.formats.style.Styler at 0x7da700953e30>"
            ],
            "text/html": [
              "<style type=\"text/css\">\n",
              "#T_515e3_row0_col1, #T_515e3_row0_col2, #T_515e3_row0_col3 {\n",
              "  background-color: #c6efce;\n",
              "}\n",
              "</style>\n",
              "<table id=\"T_515e3\" class=\"dataframe\">\n",
              "  <thead>\n",
              "    <tr>\n",
              "      <th class=\"blank level0\" >&nbsp;</th>\n",
              "      <th id=\"T_515e3_level0_col0\" class=\"col_heading level0 col0\" >Model</th>\n",
              "      <th id=\"T_515e3_level0_col1\" class=\"col_heading level0 col1\" >R2</th>\n",
              "      <th id=\"T_515e3_level0_col2\" class=\"col_heading level0 col2\" >MAE</th>\n",
              "      <th id=\"T_515e3_level0_col3\" class=\"col_heading level0 col3\" >MAPE(%)</th>\n",
              "      <th id=\"T_515e3_level0_col4\" class=\"col_heading level0 col4\" >Winner</th>\n",
              "    </tr>\n",
              "  </thead>\n",
              "  <tbody>\n",
              "    <tr>\n",
              "      <th id=\"T_515e3_level0_row0\" class=\"row_heading level0 row0\" >0</th>\n",
              "      <td id=\"T_515e3_row0_col0\" class=\"data row0 col0\" >LinearRegression</td>\n",
              "      <td id=\"T_515e3_row0_col1\" class=\"data row0 col1\" >0.465</td>\n",
              "      <td id=\"T_515e3_row0_col2\" class=\"data row0 col2\" >0.200</td>\n",
              "      <td id=\"T_515e3_row0_col3\" class=\"data row0 col3\" >8.20</td>\n",
              "      <td id=\"T_515e3_row0_col4\" class=\"data row0 col4\" >R2 MAE MAPE</td>\n",
              "    </tr>\n",
              "    <tr>\n",
              "      <th id=\"T_515e3_level0_row1\" class=\"row_heading level0 row1\" >1</th>\n",
              "      <td id=\"T_515e3_row1_col0\" class=\"data row1 col0\" >Baseline(mean)</td>\n",
              "      <td id=\"T_515e3_row1_col1\" class=\"data row1 col1\" >-0.190</td>\n",
              "      <td id=\"T_515e3_row1_col2\" class=\"data row1 col2\" >0.297</td>\n",
              "      <td id=\"T_515e3_row1_col3\" class=\"data row1 col3\" >13.23</td>\n",
              "      <td id=\"T_515e3_row1_col4\" class=\"data row1 col4\" ></td>\n",
              "    </tr>\n",
              "  </tbody>\n",
              "</table>\n"
            ]
          },
          "metadata": {}
        },
        {
          "output_type": "stream",
          "name": "stdout",
          "text": [
            "\n",
            "Линоленовая:\n"
          ]
        },
        {
          "output_type": "display_data",
          "data": {
            "text/plain": [
              "<pandas.io.formats.style.Styler at 0x7da703cc6060>"
            ],
            "text/html": [
              "<style type=\"text/css\">\n",
              "#T_d06e7_row0_col1, #T_d06e7_row0_col2, #T_d06e7_row0_col3 {\n",
              "  background-color: #c6efce;\n",
              "}\n",
              "</style>\n",
              "<table id=\"T_d06e7\" class=\"dataframe\">\n",
              "  <thead>\n",
              "    <tr>\n",
              "      <th class=\"blank level0\" >&nbsp;</th>\n",
              "      <th id=\"T_d06e7_level0_col0\" class=\"col_heading level0 col0\" >Model</th>\n",
              "      <th id=\"T_d06e7_level0_col1\" class=\"col_heading level0 col1\" >R2</th>\n",
              "      <th id=\"T_d06e7_level0_col2\" class=\"col_heading level0 col2\" >MAE</th>\n",
              "      <th id=\"T_d06e7_level0_col3\" class=\"col_heading level0 col3\" >MAPE(%)</th>\n",
              "      <th id=\"T_d06e7_level0_col4\" class=\"col_heading level0 col4\" >Winner</th>\n",
              "    </tr>\n",
              "  </thead>\n",
              "  <tbody>\n",
              "    <tr>\n",
              "      <th id=\"T_d06e7_level0_row0\" class=\"row_heading level0 row0\" >0</th>\n",
              "      <td id=\"T_d06e7_row0_col0\" class=\"data row0 col0\" >LinearRegression</td>\n",
              "      <td id=\"T_d06e7_row0_col1\" class=\"data row0 col1\" >0.229</td>\n",
              "      <td id=\"T_d06e7_row0_col2\" class=\"data row0 col2\" >0.053</td>\n",
              "      <td id=\"T_d06e7_row0_col3\" class=\"data row0 col3\" >12.46</td>\n",
              "      <td id=\"T_d06e7_row0_col4\" class=\"data row0 col4\" >R2 MAE MAPE</td>\n",
              "    </tr>\n",
              "    <tr>\n",
              "      <th id=\"T_d06e7_level0_row1\" class=\"row_heading level0 row1\" >1</th>\n",
              "      <td id=\"T_d06e7_row1_col0\" class=\"data row1 col0\" >Baseline(mean)</td>\n",
              "      <td id=\"T_d06e7_row1_col1\" class=\"data row1 col1\" >-0.001</td>\n",
              "      <td id=\"T_d06e7_row1_col2\" class=\"data row1 col2\" >0.065</td>\n",
              "      <td id=\"T_d06e7_row1_col3\" class=\"data row1 col3\" >15.73</td>\n",
              "      <td id=\"T_d06e7_row1_col4\" class=\"data row1 col4\" ></td>\n",
              "    </tr>\n",
              "  </tbody>\n",
              "</table>\n"
            ]
          },
          "metadata": {}
        },
        {
          "output_type": "stream",
          "name": "stdout",
          "text": [
            "\n",
            "Арахиновая:\n"
          ]
        },
        {
          "output_type": "display_data",
          "data": {
            "text/plain": [
              "<pandas.io.formats.style.Styler at 0x7da70022f1a0>"
            ],
            "text/html": [
              "<style type=\"text/css\">\n",
              "#T_69ffe_row0_col1, #T_69ffe_row0_col2, #T_69ffe_row0_col3 {\n",
              "  background-color: #c6efce;\n",
              "}\n",
              "</style>\n",
              "<table id=\"T_69ffe\" class=\"dataframe\">\n",
              "  <thead>\n",
              "    <tr>\n",
              "      <th class=\"blank level0\" >&nbsp;</th>\n",
              "      <th id=\"T_69ffe_level0_col0\" class=\"col_heading level0 col0\" >Model</th>\n",
              "      <th id=\"T_69ffe_level0_col1\" class=\"col_heading level0 col1\" >R2</th>\n",
              "      <th id=\"T_69ffe_level0_col2\" class=\"col_heading level0 col2\" >MAE</th>\n",
              "      <th id=\"T_69ffe_level0_col3\" class=\"col_heading level0 col3\" >MAPE(%)</th>\n",
              "      <th id=\"T_69ffe_level0_col4\" class=\"col_heading level0 col4\" >Winner</th>\n",
              "    </tr>\n",
              "  </thead>\n",
              "  <tbody>\n",
              "    <tr>\n",
              "      <th id=\"T_69ffe_level0_row0\" class=\"row_heading level0 row0\" >0</th>\n",
              "      <td id=\"T_69ffe_row0_col0\" class=\"data row0 col0\" >LinearRegression</td>\n",
              "      <td id=\"T_69ffe_row0_col1\" class=\"data row0 col1\" >-0.012</td>\n",
              "      <td id=\"T_69ffe_row0_col2\" class=\"data row0 col2\" >0.018</td>\n",
              "      <td id=\"T_69ffe_row0_col3\" class=\"data row0 col3\" >13.66</td>\n",
              "      <td id=\"T_69ffe_row0_col4\" class=\"data row0 col4\" >R2 MAE MAPE</td>\n",
              "    </tr>\n",
              "    <tr>\n",
              "      <th id=\"T_69ffe_level0_row1\" class=\"row_heading level0 row1\" >1</th>\n",
              "      <td id=\"T_69ffe_row1_col0\" class=\"data row1 col0\" >Baseline(mean)</td>\n",
              "      <td id=\"T_69ffe_row1_col1\" class=\"data row1 col1\" >-0.199</td>\n",
              "      <td id=\"T_69ffe_row1_col2\" class=\"data row1 col2\" >0.019</td>\n",
              "      <td id=\"T_69ffe_row1_col3\" class=\"data row1 col3\" >14.29</td>\n",
              "      <td id=\"T_69ffe_row1_col4\" class=\"data row1 col4\" ></td>\n",
              "    </tr>\n",
              "  </tbody>\n",
              "</table>\n"
            ]
          },
          "metadata": {}
        },
        {
          "output_type": "stream",
          "name": "stdout",
          "text": [
            "\n"
          ]
        }
      ]
    },
    {
      "cell_type": "markdown",
      "source": [
        "\n",
        "# Упаковываем модели в pickle формат 🥒"
      ],
      "metadata": {
        "id": "z8hM7J88xve5"
      }
    },
    {
      "cell_type": "code",
      "source": [
        "import pickle"
      ],
      "metadata": {
        "id": "TfYLOfyXj2oJ"
      },
      "execution_count": null,
      "outputs": []
    },
    {
      "cell_type": "code",
      "source": [
        "for acid in ['масляная','капроновая', 'каприловая', 'каприновая', 'деценовая', 'лауриновая',\n",
        "       'миристиновая', 'миристолеиновая', 'пальмитиновая', 'пальмитолеиновая',\n",
        "       'стеариновая', 'олеиновая', 'линолевая', 'линоленовая', 'арахиновая']:\n",
        "    result = train_and_evaluate(X, Y, acid, test_size=0.27, random_state=123, json_path=\"model_weights.json\")\n",
        "    with open(f\"{acid}_model.pkl\", \"wb\") as f:\n",
        "         pickle.dump(result['model'], f)"
      ],
      "metadata": {
        "id": "3C7DpIXVj2fM"
      },
      "execution_count": null,
      "outputs": []
    }
  ],
  "metadata": {
    "colab": {
      "provenance": [],
      "collapsed_sections": [
        "OkQJsqDVysDT",
        "v26naRE8zIBm",
        "ewAM74X4c0fU",
        "V3hAb-ZPdbgY"
      ]
    },
    "kernelspec": {
      "display_name": "Python 3",
      "name": "python3"
    },
    "language_info": {
      "name": "python"
    }
  },
  "nbformat": 4,
  "nbformat_minor": 0
}